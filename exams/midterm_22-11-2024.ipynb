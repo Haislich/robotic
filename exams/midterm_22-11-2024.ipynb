{
 "cells": [
  {
   "cell_type": "markdown",
   "id": "3718e0a5",
   "metadata": {},
   "source": [
    "# Mid term November 22, 2024"
   ]
  },
  {
   "cell_type": "markdown",
   "id": "c403f69f",
   "metadata": {},
   "source": [
    "## Imports"
   ]
  },
  {
   "cell_type": "code",
   "execution_count": 1,
   "id": "247356f0",
   "metadata": {},
   "outputs": [],
   "source": [
    "import sympy\n",
    "import math\n",
    "from IPython.display import display, Math\n",
    "from robotic.manipulator import JointType, Manipulator\n",
    "from robotic.utils import draw_frame\n",
    "from robotic.transformations import (\n",
    "    Axis,\n",
    "    EulerOrder,\n",
    "    EulerSequence,\n",
    "    HomogeneousTransformation,\n",
    "    Rotation,\n",
    "    Translation,\n",
    "    X,\n",
    "    Y,\n",
    "    Z,\n",
    ")\n"
   ]
  },
  {
   "cell_type": "markdown",
   "id": "c9b37ca2",
   "metadata": {},
   "source": [
    "## Esercise 1\n",
    "\n",
    "We begin by defining the initial orientation $R_i$ using fixed $ZXY$ euler angles, where the angles are known and can be substituted directly:\n",
    "\n",
    "$$\n",
    "\\alpha = \\frac{\\pi}{2}, \\beta = \\frac{\\pi}{4}, \\gamma = \\frac{\\pi}{6}\n",
    "$$"
   ]
  },
  {
   "cell_type": "code",
   "execution_count": 2,
   "id": "d44eec2f",
   "metadata": {},
   "outputs": [
    {
     "data": {
      "text/latex": [
       "$\\displaystyle \\left[\\begin{matrix}0.5 & -0.7071 & 0.5\\\\0.7071 & 0 & -0.7071\\\\0.5 & 0.7071 & 0.5\\end{matrix}\\right]$"
      ],
      "text/plain": [
       "Matrix([\n",
       "[   0.5, -0.7071,     0.5],\n",
       "[0.7071,       0, -0.7071],\n",
       "[   0.5,  0.7071,     0.5]])"
      ]
     },
     "execution_count": 2,
     "metadata": {},
     "output_type": "execute_result"
    }
   ],
   "source": [
    "alpha = sympy.pi / 2\n",
    "beta = sympy.pi / 4\n",
    "gamma = -sympy.pi / 4\n",
    "initial_rot: Rotation = Rotation.from_euler(\n",
    "    (alpha, beta, gamma),\n",
    "    EulerSequence.ZXY,\n",
    "    EulerOrder.FIXED,\n",
    ")\n",
    "initial_rot.evalf().round(4)"
   ]
  },
  {
   "cell_type": "markdown",
   "id": "9a30372c",
   "metadata": {},
   "source": [
    "Next, the final orientation $R_f$ is specified using an axis-angle representation with axis of rotation and amount known:\n",
    "\n",
    "$$\n",
    "\\bold{r} =(0, -\\frac{\\sqrt{2}}{2},\\frac{\\sqrt{2}}{2}), \\quad \\theta= \\frac{\\pi}{6}\n",
    "$$ "
   ]
  },
  {
   "cell_type": "code",
   "execution_count": 3,
   "id": "a0eed0ed",
   "metadata": {},
   "outputs": [
    {
     "data": {
      "text/latex": [
       "$\\displaystyle \\left[\\begin{matrix}0.866 & -0.3536 & -0.3536\\\\0.3536 & 0.933 & -0.067\\\\0.3536 & -0.067 & 0.933\\end{matrix}\\right]$"
      ],
      "text/plain": [
       "Matrix([\n",
       "[ 0.866, -0.3536, -0.3536],\n",
       "[0.3536,   0.933,  -0.067],\n",
       "[0.3536,  -0.067,   0.933]])"
      ]
     },
     "execution_count": 3,
     "metadata": {},
     "output_type": "execute_result"
    }
   ],
   "source": [
    "theta = sympy.pi / 6\n",
    "r = Axis(0, -math.sqrt(2) / 2.0, math.sqrt(2) / 2.0)\n",
    "final_rot = Rotation.from_axis_angle(r, theta)\n",
    "final_rot.evalf().round()"
   ]
  },
  {
   "cell_type": "markdown",
   "id": "b18cfe66",
   "metadata": {},
   "source": [
    "Now we compute the relative transformation $R_{if}$ which represents the rotation that brings the initial frame $R_i$ into alignment with the final frame $R_f$:\n",
    "\n",
    "$$\n",
    "R_f = R_i R_{if} \\rightarrow R_{if} = R_i^T R_f\n",
    "$$"
   ]
  },
  {
   "cell_type": "code",
   "execution_count": 4,
   "id": "7a366964",
   "metadata": {},
   "outputs": [
    {
     "data": {
      "text/latex": [
       "$\\displaystyle \\left[\\begin{matrix}0.8598 & 0.4495 & 0.2424\\\\-0.3624 & 0.2026 & 0.9097\\\\0.3598 & -0.87 & 0.3371\\end{matrix}\\right]$"
      ],
      "text/plain": [
       "Matrix([\n",
       "[ 0.8598, 0.4495, 0.2424],\n",
       "[-0.3624, 0.2026, 0.9097],\n",
       "[ 0.3598,  -0.87, 0.3371]])"
      ]
     },
     "execution_count": 4,
     "metadata": {},
     "output_type": "execute_result"
    }
   ],
   "source": [
    "r_trans: Rotation = initial_rot.T @ final_rot\n",
    "r_trans.evalf().round()"
   ]
  },
  {
   "cell_type": "markdown",
   "id": "c7799035",
   "metadata": {},
   "source": [
    "Finally we can extract the Eler angles $\\phi, \\chi, \\psi$ around YXY assuming a fixed convention"
   ]
  },
  {
   "cell_type": "code",
   "execution_count": 5,
   "id": "216e0c66",
   "metadata": {},
   "outputs": [
    {
     "data": {
      "text/latex": [
       "$\\displaystyle \\phi = -2.7625$"
      ],
      "text/plain": [
       "<IPython.core.display.Math object>"
      ]
     },
     "metadata": {},
     "output_type": "display_data"
    },
    {
     "data": {
      "text/latex": [
       "$\\displaystyle \\chi =  1.3668$"
      ],
      "text/plain": [
       "<IPython.core.display.Math object>"
      ]
     },
     "metadata": {},
     "output_type": "display_data"
    },
    {
     "data": {
      "text/latex": [
       "$\\displaystyle \\psi =  2.6647$"
      ],
      "text/plain": [
       "<IPython.core.display.Math object>"
      ]
     },
     "metadata": {},
     "output_type": "display_data"
    }
   ],
   "source": [
    "(phi, chi, psi), _, _ = r_trans.to_euler(EulerSequence.YXY, EulerOrder.FIXED)\n",
    "display(Math(rf\"\\phi = {phi.evalf(): .4f}\"))  # type: ignore\n",
    "display(Math(rf\"\\chi = {chi.evalf(): .4f}\"))  # type: ignore\n",
    "display(Math(rf\"\\psi = {psi.evalf(): .4f}\"))  # type: ignore\n"
   ]
  },
  {
   "cell_type": "markdown",
   "id": "1006cb60",
   "metadata": {},
   "source": [
    "## Excercise 2\n",
    "\n",
    "In order to check the intermediate results we will define the required symbols"
   ]
  },
  {
   "cell_type": "code",
   "execution_count": 6,
   "id": "864d8f8e",
   "metadata": {},
   "outputs": [],
   "source": [
    "h, r, d, alpha, theta, phi = sympy.symbols(\"h r d alpha theta phi\")"
   ]
  },
  {
   "cell_type": "markdown",
   "id": "850029d8",
   "metadata": {},
   "source": [
    "Now, from the figure we know that the cylinder frame is rotated relative to the world frame:"
   ]
  },
  {
   "cell_type": "code",
   "execution_count": 7,
   "id": "ea32203b",
   "metadata": {},
   "outputs": [
    {
     "data": {
      "image/png": "[encoded data removed]",
      "text/plain": [
       "<Figure size 640x480 with 1 Axes>"
      ]
     },
     "metadata": {},
     "output_type": "display_data"
    }
   ],
   "source": [
    "basis = Rotation(\n",
    "    sympy.Matrix(\n",
    "        [\n",
    "            [0, 1, 0],\n",
    "            [-1, 0, 0],\n",
    "            [0, 0, 1],\n",
    "        ]\n",
    "    )\n",
    ")\n",
    "world_frame_rotation = draw_frame(basis=basis, label=\"World Frame\")"
   ]
  },
  {
   "cell_type": "markdown",
   "id": "391819a2",
   "metadata": {},
   "source": [
    "From the image the cylinder is rotated by an amount of:\n",
    "\n",
    "- $\\frac{\\pi}{2}$ around Y\n",
    "- $\\frac{\\pi}{2}$ around Z\n"
   ]
  },
  {
   "cell_type": "code",
   "execution_count": 8,
   "id": "7826fc59",
   "metadata": {},
   "outputs": [
    {
     "data": {
      "image/png": "[encoded data removed]",
      "text/plain": [
       "<Figure size 640x480 with 1 Axes>"
      ]
     },
     "metadata": {},
     "output_type": "display_data"
    }
   ],
   "source": [
    "initial_rotation = draw_frame(\n",
    "    rotation=Rotation.from_axis_angle(Y, sympy.pi / 2),\n",
    "    basis=basis,\n",
    "    label=r\"Rotation of $\\frac{\\pi}{2}$ around Y\",\n",
    ")"
   ]
  },
  {
   "cell_type": "code",
   "execution_count": 9,
   "id": "84b1f36f",
   "metadata": {},
   "outputs": [
    {
     "data": {
      "image/png": "[encoded data removed]",
      "text/plain": [
       "<Figure size 640x480 with 1 Axes>"
      ]
     },
     "metadata": {},
     "output_type": "display_data"
    }
   ],
   "source": [
    "initial_rotation = draw_frame(\n",
    "    rotation=Rotation.from_axis_angle(Z, sympy.pi / 2),\n",
    "    basis=initial_rotation,\n",
    "    label=r\"Rotation of $\\frac{\\pi}{2}$ around Z\",\n",
    ")"
   ]
  },
  {
   "cell_type": "markdown",
   "id": "26ae89ba",
   "metadata": {},
   "source": [
    "We can define now an homogeneous transformation, ${}^wT_c$, that transforms from world frame into body frame, from this new initial rotation, however we need to also account for the displacement w.r.t to the center, due to the fact that we are taking the body of the cylinder, which is located at a distance of $\\frac{h}{2}$ along the world frame $x$ axis and at a height of $r$, again in the world frame"
   ]
  },
  {
   "cell_type": "code",
   "execution_count": 10,
   "id": "640ff8dd",
   "metadata": {},
   "outputs": [
    {
     "data": {
      "text/latex": [
       "$\\displaystyle \\left[\\begin{matrix}0 & 0 & 1 & \\frac{h}{2}\\\\1 & 0 & 0 & 0\\\\0 & 1 & 0 & r\\\\0 & 0 & 0 & 1\\end{matrix}\\right]$"
      ],
      "text/plain": [
       "Matrix([\n",
       "[0, 0, 1, h/2],\n",
       "[1, 0, 0,   0],\n",
       "[0, 1, 0,   r],\n",
       "[0, 0, 0,   1]])"
      ]
     },
     "execution_count": 10,
     "metadata": {},
     "output_type": "execute_result"
    }
   ],
   "source": [
    "# remove the information about the world frame basis definition\n",
    "initial_rotation = basis.T @ initial_rotation\n",
    "w_t_c = HomogeneousTransformation.from_rotation(initial_rotation).with_translation(\n",
    "    Translation(h / 2, 0, r)\n",
    ")\n",
    "w_t_c"
   ]
  },
  {
   "cell_type": "markdown",
   "id": "bfece25f",
   "metadata": {},
   "source": [
    "We roll for a distance $d$, however a roll will also cause a rotation $\\alpha = \\frac{d}{r}$, however since the roll will be clockwise $\\alpha = -\\frac{d}{r}$, so our first transformation $T_1$ will be described in body frame as:"
   ]
  },
  {
   "cell_type": "code",
   "execution_count": 11,
   "id": "2cb0a672",
   "metadata": {},
   "outputs": [
    {
     "data": {
      "text/latex": [
       "$\\displaystyle \\left[\\begin{matrix}\\cos{\\left(\\alpha \\right)} & - \\sin{\\left(\\alpha \\right)} & 0 & d\\\\\\sin{\\left(\\alpha \\right)} & \\cos{\\left(\\alpha \\right)} & 0 & 0\\\\0 & 0 & 1 & 0\\\\0 & 0 & 0 & 1\\end{matrix}\\right]$"
      ],
      "text/plain": [
       "Matrix([\n",
       "[cos(alpha), -sin(alpha), 0, d],\n",
       "[sin(alpha),  cos(alpha), 0, 0],\n",
       "[         0,           0, 1, 0],\n",
       "[         0,           0, 0, 1]])"
      ]
     },
     "execution_count": 11,
     "metadata": {},
     "output_type": "execute_result"
    }
   ],
   "source": [
    "t_1 = HomogeneousTransformation.from_rotation(\n",
    "    Rotation.from_axis_angle(Z, alpha)\n",
    ").with_translation(Translation(d, 0, 0))\n",
    "t_1"
   ]
  },
  {
   "cell_type": "markdown",
   "id": "3f581241",
   "metadata": {},
   "source": [
    "We now rotate around the world frame Z axis, so in world frame $T_2$ will be described as"
   ]
  },
  {
   "cell_type": "code",
   "execution_count": 12,
   "id": "30af8517",
   "metadata": {},
   "outputs": [
    {
     "data": {
      "text/latex": [
       "$\\displaystyle \\left[\\begin{matrix}\\cos{\\left(\\theta \\right)} & - \\sin{\\left(\\theta \\right)} & 0 & 0\\\\\\sin{\\left(\\theta \\right)} & \\cos{\\left(\\theta \\right)} & 0 & 0\\\\0 & 0 & 1 & 0\\\\0 & 0 & 0 & 1\\end{matrix}\\right]$"
      ],
      "text/plain": [
       "Matrix([\n",
       "[cos(theta), -sin(theta), 0, 0],\n",
       "[sin(theta),  cos(theta), 0, 0],\n",
       "[         0,           0, 1, 0],\n",
       "[         0,           0, 0, 1]])"
      ]
     },
     "execution_count": 12,
     "metadata": {},
     "output_type": "execute_result"
    }
   ],
   "source": [
    "t_2 = HomogeneousTransformation.from_rotation(Rotation.from_axis_angle(Z, theta))\n",
    "t_2"
   ]
  },
  {
   "cell_type": "markdown",
   "id": "ce8c9b4a",
   "metadata": {},
   "source": [
    "Finally we need to define the last transformation $T_3$ which is a rotation along the cylinder Z axis"
   ]
  },
  {
   "cell_type": "code",
   "execution_count": 13,
   "id": "0f23b6a7",
   "metadata": {},
   "outputs": [
    {
     "data": {
      "text/latex": [
       "$\\displaystyle \\left[\\begin{matrix}\\cos{\\left(\\phi \\right)} & - \\sin{\\left(\\phi \\right)} & 0 & 0\\\\\\sin{\\left(\\phi \\right)} & \\cos{\\left(\\phi \\right)} & 0 & 0\\\\0 & 0 & 1 & 0\\\\0 & 0 & 0 & 1\\end{matrix}\\right]$"
      ],
      "text/plain": [
       "Matrix([\n",
       "[cos(phi), -sin(phi), 0, 0],\n",
       "[sin(phi),  cos(phi), 0, 0],\n",
       "[       0,         0, 1, 0],\n",
       "[       0,         0, 0, 1]])"
      ]
     },
     "execution_count": 13,
     "metadata": {},
     "output_type": "execute_result"
    }
   ],
   "source": [
    "t_3 = HomogeneousTransformation.from_rotation(Rotation.from_axis_angle(Z, phi))\n",
    "t_3"
   ]
  },
  {
   "cell_type": "markdown",
   "id": "6f9b2fc5",
   "metadata": {},
   "source": [
    "Finally we can write the full transformation, by rememebering something very important, we first need to perform the first rotation ${}^wT_c$, which rotates into the body frame, now from here:\n",
    "\n",
    "- any rotation in body frame will be postmultiplied\n",
    "- any rotation in world frame will be premultiplied\n",
    "\n",
    "$$\n",
    "T = T_2 ({}^wT_c T_1 T_3)\n",
    "$$ "
   ]
  },
  {
   "cell_type": "code",
   "execution_count": 14,
   "id": "985775a7",
   "metadata": {},
   "outputs": [
    {
     "data": {
      "text/latex": [
       "$\\displaystyle \\left[\\begin{matrix}- \\left(- \\sin{\\left(\\alpha \\right)} \\sin{\\left(\\phi \\right)} + \\cos{\\left(\\alpha \\right)} \\cos{\\left(\\phi \\right)}\\right) \\sin{\\left(\\theta \\right)} & - \\left(- \\sin{\\left(\\alpha \\right)} \\cos{\\left(\\phi \\right)} - \\sin{\\left(\\phi \\right)} \\cos{\\left(\\alpha \\right)}\\right) \\sin{\\left(\\theta \\right)} & \\cos{\\left(\\theta \\right)} & - d \\sin{\\left(\\theta \\right)} + \\frac{h \\cos{\\left(\\theta \\right)}}{2}\\\\\\left(- \\sin{\\left(\\alpha \\right)} \\sin{\\left(\\phi \\right)} + \\cos{\\left(\\alpha \\right)} \\cos{\\left(\\phi \\right)}\\right) \\cos{\\left(\\theta \\right)} & \\left(- \\sin{\\left(\\alpha \\right)} \\cos{\\left(\\phi \\right)} - \\sin{\\left(\\phi \\right)} \\cos{\\left(\\alpha \\right)}\\right) \\cos{\\left(\\theta \\right)} & \\sin{\\left(\\theta \\right)} & d \\cos{\\left(\\theta \\right)} + \\frac{h \\sin{\\left(\\theta \\right)}}{2}\\\\\\sin{\\left(\\alpha \\right)} \\cos{\\left(\\phi \\right)} + \\sin{\\left(\\phi \\right)} \\cos{\\left(\\alpha \\right)} & - \\sin{\\left(\\alpha \\right)} \\sin{\\left(\\phi \\right)} + \\cos{\\left(\\alpha \\right)} \\cos{\\left(\\phi \\right)} & 0 & r\\\\0 & 0 & 0 & 1\\end{matrix}\\right]$"
      ],
      "text/plain": [
       "Matrix([\n",
       "[-(-sin(alpha)*sin(phi) + cos(alpha)*cos(phi))*sin(theta), -(-sin(alpha)*cos(phi) - sin(phi)*cos(alpha))*sin(theta), cos(theta), -d*sin(theta) + h*cos(theta)/2],\n",
       "[ (-sin(alpha)*sin(phi) + cos(alpha)*cos(phi))*cos(theta),  (-sin(alpha)*cos(phi) - sin(phi)*cos(alpha))*cos(theta), sin(theta),  d*cos(theta) + h*sin(theta)/2],\n",
       "[               sin(alpha)*cos(phi) + sin(phi)*cos(alpha),               -sin(alpha)*sin(phi) + cos(alpha)*cos(phi),          0,                              r],\n",
       "[                                                       0,                                                        0,          0,                              1]])"
      ]
     },
     "execution_count": 14,
     "metadata": {},
     "output_type": "execute_result"
    }
   ],
   "source": [
    "t = t_2 @ (w_t_c @ (t_1 @ t_3))\n",
    "# sympy.simplify(t)\n",
    "t"
   ]
  },
  {
   "cell_type": "code",
   "execution_count": 15,
   "id": "eeace832",
   "metadata": {},
   "outputs": [
    {
     "data": {
      "text/latex": [
       "$\\displaystyle \\left[\\begin{matrix}0.5632 & 0.6579 & 0.5 & -1.174\\\\-0.3251 & -0.3798 & 0.866 & 0.9665\\\\0.7597 & -0.6503 & 0 & 0.1\\\\0 & 0 & 0 & 1.0\\end{matrix}\\right]$"
      ],
      "text/plain": [
       "Matrix([\n",
       "[ 0.5632,  0.6579,   0.5, -1.174],\n",
       "[-0.3251, -0.3798, 0.866, 0.9665],\n",
       "[ 0.7597, -0.6503,     0,    0.1],\n",
       "[      0,       0,     0,    1.0]])"
      ]
     },
     "execution_count": 15,
     "metadata": {},
     "output_type": "execute_result"
    }
   ],
   "source": [
    "t = (\n",
    "    HomogeneousTransformation(\n",
    "        t.subs(\n",
    "            {\n",
    "                \"h\": 0.5,\n",
    "                \"r\": 0.1,\n",
    "                \"d\": 1.5,\n",
    "                \"theta\": sympy.pi / 3,\n",
    "                \"phi\": -sympy.pi / 2,\n",
    "                # When a cylinder rotates of a displacement d\n",
    "                # the angle is d/r\n",
    "                \"alpha\": -1.5 / 0.1,\n",
    "            }\n",
    "        )\n",
    "    )\n",
    "    .evalf()\n",
    "    .round(4)\n",
    ")\n",
    "t"
   ]
  },
  {
   "cell_type": "markdown",
   "id": "1f18a347",
   "metadata": {},
   "source": [
    "## Exercise 3\n",
    "\n",
    "The DH convention requires that we assign a coordinate frame to each joint such that:\n",
    "\n",
    "- The $z_i$ axis corresponds to the axis of motion of the $i$-th joint\n",
    "- The $x_i$ axis lies along the common normal between $z_i$ and $z_{i-1}$\n",
    "- PER PROBLEM REQUEST: No axis should point into the sheet\n",
    "\n",
    "We will start by visualizing the world frame that we will be using"
   ]
  },
  {
   "cell_type": "code",
   "execution_count": 16,
   "id": "ec930a94",
   "metadata": {},
   "outputs": [
    {
     "data": {
      "image/png": "[encoded data removed]",
      "text/plain": [
       "<Figure size 640x480 with 1 Axes>"
      ]
     },
     "metadata": {},
     "output_type": "display_data"
    }
   ],
   "source": [
    "world_frame = draw_frame(\n",
    "    label = \"World frame\"\n",
    ").round().evalf()"
   ]
  },
  {
   "cell_type": "markdown",
   "id": "9bbc38c4",
   "metadata": {},
   "source": [
    "Now we define Frame 0, which corresponds to the frame attached to the prismatic Joint 1, which is a sliding vertical joint.\n",
    "Since the directionin which the joint moves is vertical.\n",
    "Since this is the first frame that we are positioning, no previous frame exists and thus the requirement for $x_0$ is lifted and can be placed arbitrarily.\n",
    "This means that we should only find a transformation $T_0$ that aligns $z_0$ with $y_w$."
   ]
  },
  {
   "cell_type": "code",
   "execution_count": 17,
   "id": "8f4274b5",
   "metadata": {},
   "outputs": [
    {
     "data": {
      "image/png": "[encoded data removed]",
      "text/plain": [
       "<Figure size 640x480 with 1 Axes>"
      ]
     },
     "metadata": {},
     "output_type": "display_data"
    }
   ],
   "source": [
    "t_0 = draw_frame(\n",
    "    Rotation.from_axis_angle(Z, -math.pi / 2)\n",
    "    @ Rotation.from_axis_angle(Y, -math.pi / 2),basis= world_frame, label = \"Frame 0\"\n",
    ").round().evalf()"
   ]
  },
  {
   "cell_type": "markdown",
   "id": "15e21985",
   "metadata": {},
   "source": [
    "Frame 1 corresponds to the second prismatic joint.\n",
    "The axis is horizontal (in the world frame), so we need to find another transformation $T_1$ that allows us to move from Frame 0 to Frame 1 while respecting the constraints"
   ]
  },
  {
   "cell_type": "code",
   "execution_count": 18,
   "id": "23fda644",
   "metadata": {},
   "outputs": [
    {
     "data": {
      "image/png": "[encoded data removed]",
      "text/plain": [
       "<Figure size 640x480 with 1 Axes>"
      ]
     },
     "metadata": {},
     "output_type": "display_data"
    }
   ],
   "source": [
    "t_1 = draw_frame(Rotation.from_axis_angle(X,-math.pi/2), basis = t_0, label =\"Frame 1\").round().evalf()"
   ]
  },
  {
   "cell_type": "markdown",
   "id": "a15aa223",
   "metadata": {},
   "source": [
    "Frame 2 is exactly the same as Frame 1 "
   ]
  },
  {
   "cell_type": "code",
   "execution_count": 19,
   "id": "dc37c926",
   "metadata": {},
   "outputs": [
    {
     "data": {
      "image/png": "[encoded data removed]",
      "text/plain": [
       "<Figure size 640x480 with 1 Axes>"
      ]
     },
     "metadata": {},
     "output_type": "display_data"
    }
   ],
   "source": [
    "t_2 = draw_frame(Rotation.from_axis_angle(Z,-math.pi/2) @ Rotation.from_axis_angle(X,-math.pi/2),basis = t_1, label = \"Frame 2\").round().evalf()"
   ]
  },
  {
   "cell_type": "markdown",
   "id": "5f3653ab",
   "metadata": {},
   "source": [
    "<!-- TODO: Ask de luca how the third frame was decided  -->\n",
    "Finally Frame 3 is placed at the gripper center ..."
   ]
  },
  {
   "cell_type": "code",
   "execution_count": 20,
   "id": "f74764c5",
   "metadata": {},
   "outputs": [
    {
     "data": {
      "image/png": "[encoded data removed]",
      "text/plain": [
       "<Figure size 640x480 with 1 Axes>"
      ]
     },
     "metadata": {},
     "output_type": "display_data"
    }
   ],
   "source": [
    "t_3 = draw_frame(Rotation.from_axis_angle(Z,-math.pi/2),basis = t_2).round().evalf()"
   ]
  },
  {
   "cell_type": "markdown",
   "id": "10b49165",
   "metadata": {},
   "source": [
    "And finally we need to add the End effector frame, but as the text suggests $z_e$ should be in the approach direction and $y_e$ should be in the slide direction."
   ]
  },
  {
   "cell_type": "code",
   "execution_count": 21,
   "id": "63ececc8",
   "metadata": {},
   "outputs": [
    {
     "data": {
      "image/png": "[encoded data removed]",
      "text/plain": [
       "<Figure size 640x480 with 1 Axes>"
      ]
     },
     "metadata": {},
     "output_type": "display_data"
    }
   ],
   "source": [
    "t_e = draw_frame(Rotation.from_axis_angle(Y,math.pi/2) @ Rotation.from_axis_angle(Z,math.pi), basis = t_3,label = \"Frame End Effector\").round().evalf()"
   ]
  },
  {
   "cell_type": "markdown",
   "id": "231456b2",
   "metadata": {},
   "source": [
    "Now that we have defined all axes, we can compute the DH table by interpreting the transformation between each pair of frames. We'll go parameter by parameter.\n",
    "\n",
    "### Twist angle $\\alpha_i$\n",
    "\n",
    "> **With respect to $x_i$, how much do we need to rotate $z_{i-1}$ to align it with $z_i$?**\n",
    "\n",
    "In practice, this is just the rotation around the X-axis between consecutive Z-axes. Since we aligned the axes visually, we can directly read the rotation by observing the relative orientation of $z_{i-1}$ and $z_i$.\n",
    "\n",
    "- $\\alpha_1 = -\\frac{\\pi}{2}$\n",
    "- $\\alpha_2 = -\\frac{\\pi}{2}$\n",
    "- $\\alpha_3 = 0$\n",
    "\n",
    "*Note: These correspond to the rotations around X applied when constructing each frame using `draw_frame`.*\n",
    "\n",
    "---\n",
    "\n",
    "### Link length $a_i$\n",
    "\n",
    "> **The distance from $z_{i-1}$ to $z_i$, measured along the $x_i$ direction.**\n",
    "\n",
    "This is easier to reason about in most cases. There are only two main situations:\n",
    "\n",
    "- If $z_{i-1}$ and $z_i$ are **parallel but not intersecting**, then $a_i = c$, where $c$ is the distance between them.\n",
    "- If $z_{i-1}$ and $z_i$ **intersect or are colinear**, then $a_i = 0$.\n",
    "\n",
    "In our case:\n",
    "\n",
    "- $a_1 = 0$\n",
    "- $a_2 = 0$\n",
    "- $a_3 = L$ (since the third link extends a constant length along the $x_3$ direction)\n",
    "\n",
    "---\n",
    "\n",
    "### Offset $d_i$\n",
    "\n",
    "> **The distance along the $z_{i-1}$ (or $z_i$) axis from the origin of frame $i-1$ to where the common normal meets it.**\n",
    "\n",
    "This parameter is variable for **prismatic joints**, and constant (often zero) for **revolute joints**.\n",
    "\n",
    "- $d_1 = q_1$ (first prismatic joint)\n",
    "- $d_2 = q_2$ (second prismatic joint)\n",
    "- $d_3 = 0$ (revolute joint)\n",
    "\n",
    "---\n",
    "\n",
    "### Joint angle $\\theta_i$\n",
    "\n",
    "> **The angle between $x_{i-1}$ and $x_i$, measured about the $z_{i-1}$ axis.**\n",
    "\n",
    "We can simply check how much rotation occurred around the Z-axis between each pair of frames.\n",
    "\n",
    "- $\\theta_1 = 0$\n",
    "- $\\theta_2 = -\\frac{\\pi}{2}$\n",
    "- $\\theta_3 = q_3$ (revolute joint angle)\n"
   ]
  },
  {
   "cell_type": "markdown",
   "id": "cb7de52f",
   "metadata": {},
   "source": [
    "We can now generate the dh Matrix"
   ]
  },
  {
   "cell_type": "code",
   "execution_count": 22,
   "id": "ed418a15",
   "metadata": {},
   "outputs": [
    {
     "data": {
      "text/latex": [
       "$\n",
       "\\begin{array}{|c|c|c|c|c|}\n",
       "\\hline\n",
       "a & \\alpha & d & \\theta & type \\\\ \\hline\n",
       "0 & - \\frac{\\pi}{2} & q_{1} & 0.0 & \\mathrm{Prismatic} \\\\[0.5em]\n",
       "0 & - \\frac{\\pi}{2} & q_{2} & - \\frac{\\pi}{2} & \\mathrm{Prismatic} \\\\[0.5em]\n",
       "L & 0 & 0 & q_{3} & \\mathrm{Revolute} \\\\[0.5em]\n",
       "\\hline\n",
       "\\end{array}\n",
       "$"
      ],
      "text/plain": [
       "   a  alpha    d  theta       type\n",
       "0  0  -pi/2  q_1    0.0  PRISMATIC\n",
       "1  0  -pi/2  q_2  -pi/2  PRISMATIC\n",
       "2  L      0    0    q_3   REVOLUTE"
      ]
     },
     "execution_count": 22,
     "metadata": {},
     "output_type": "execute_result"
    }
   ],
   "source": [
    "joint_types = [\n",
    "        JointType.PRISMATIC,\n",
    "        JointType.PRISMATIC,\n",
    "        JointType.REVOLUTE,\n",
    "    ]\n",
    "\n",
    "x_offsets = [0, 0, sympy.symbols(\"L\")]\n",
    "# alpha\n",
    "x_rotations = [-sympy.pi / 2, -sympy.pi / 2, 0]\n",
    "man = Manipulator(\n",
    "    x_offsets=x_offsets,\n",
    "    x_rotations=x_rotations,\n",
    "    joint_types=joint_types,\n",
    "    z_rotations=[0.0, -sympy.pi / 2, 0],\n",
    ")\n",
    "man.dh_table()\n",
    "\n"
   ]
  },
  {
   "cell_type": "code",
   "execution_count": 23,
   "id": "cc97ddee",
   "metadata": {},
   "outputs": [
    {
     "data": {
      "text/latex": [
       "$\\displaystyle \\left[\\begin{matrix}0 & 0 & 1.0 & 0\\\\- \\sin{\\left(q_{3} \\right)} & - \\cos{\\left(q_{3} \\right)} & 0 & - L \\sin{\\left(q_{3} \\right)} + q_{2}\\\\\\cos{\\left(q_{3} \\right)} & - \\sin{\\left(q_{3} \\right)} & 0 & L \\cos{\\left(q_{3} \\right)} + q_{1}\\\\0 & 0 & 0 & 1.0\\end{matrix}\\right]$"
      ],
      "text/plain": [
       "Matrix([\n",
       "[        0,         0, 1.0,                 0],\n",
       "[-sin(q_3), -cos(q_3),   0, -L*sin(q_3) + q_2],\n",
       "[ cos(q_3), -sin(q_3),   0,  L*cos(q_3) + q_1],\n",
       "[        0,         0,   0,               1.0]])"
      ]
     },
     "execution_count": 23,
     "metadata": {},
     "output_type": "execute_result"
    }
   ],
   "source": [
    "man.dh_matrix().evalf()"
   ]
  },
  {
   "cell_type": "code",
   "execution_count": 24,
   "id": "438bc72d",
   "metadata": {},
   "outputs": [
    {
     "data": {
      "text/latex": [
       "$\\displaystyle \\left[\\begin{matrix}0 & 1.0 & 0\\\\0 & 0 & 1.0\\\\1.0 & 0 & 0\\end{matrix}\\right]$"
      ],
      "text/plain": [
       "Matrix([\n",
       "[  0, 1.0,   0],\n",
       "[  0,   0, 1.0],\n",
       "[1.0,   0,   0]])"
      ]
     },
     "execution_count": 24,
     "metadata": {},
     "output_type": "execute_result"
    }
   ],
   "source": [
    "w_t_zero = world_frame.T @ t_0\n",
    "w_t_zero"
   ]
  },
  {
   "cell_type": "code",
   "execution_count": 25,
   "id": "834977b5",
   "metadata": {},
   "outputs": [
    {
     "data": {
      "text/latex": [
       "$\\displaystyle \\left[\\begin{matrix}0 & 0 & 1.0\\\\0 & -1.0 & 0\\\\1.0 & 0 & 0\\end{matrix}\\right]$"
      ],
      "text/plain": [
       "Matrix([\n",
       "[  0,    0, 1.0],\n",
       "[  0, -1.0,   0],\n",
       "[1.0,    0,   0]])"
      ]
     },
     "execution_count": 25,
     "metadata": {},
     "output_type": "execute_result"
    }
   ],
   "source": [
    "three_t_e = t_3.T @ t_e\n",
    "three_t_e"
   ]
  },
  {
   "cell_type": "code",
   "execution_count": 26,
   "id": "aa844120",
   "metadata": {},
   "outputs": [
    {
     "data": {
      "text/latex": [
       "$\\displaystyle \\left[\\begin{matrix}0 & 1.0 \\cos{\\left(q_{3} \\right)} & - 1.0 \\sin{\\left(q_{3} \\right)} & - 1.0 L \\sin{\\left(q_{3} \\right)} + 1.0 q_{2}\\\\0 & 1.0 \\sin{\\left(q_{3} \\right)} & 1.0 \\cos{\\left(q_{3} \\right)} & 1.0 L \\cos{\\left(q_{3} \\right)} + 1.0 q_{1}\\\\1.0 & 0 & 0 & 0\\\\0 & 0 & 0 & 1.0\\end{matrix}\\right]$"
      ],
      "text/plain": [
       "Matrix([\n",
       "[  0, 1.0*cos(q_3), -1.0*sin(q_3), -1.0*L*sin(q_3) + 1.0*q_2],\n",
       "[  0, 1.0*sin(q_3),  1.0*cos(q_3),  1.0*L*cos(q_3) + 1.0*q_1],\n",
       "[1.0,            0,             0,                         0],\n",
       "[  0,            0,             0,                       1.0]])"
      ]
     },
     "execution_count": 26,
     "metadata": {},
     "output_type": "execute_result"
    }
   ],
   "source": [
    "(w_t_zero @ man.dh_matrix() @ three_t_e).evalf()"
   ]
  },
  {
   "cell_type": "markdown",
   "id": "c4cfb38e",
   "metadata": {},
   "source": [
    "## Excercise 4\n",
    "\n",
    "In gear-driven systems, the torque transmission from a motor to a load (link) can be optimized by matching the inertias through the transmission ratio. The fundamental matching condition is\n",
    "\n",
    "$$\n",
    "n = \\sqrt{\\frac{J_l}{J_m}}\n",
    "$$\n",
    "\n",
    "where \n",
    "\n",
    "- $n$ is the reduction ratio of the system \n",
    "- $J_l$ is the link inertia\n",
    "- $J_m$ is the motor inertia\n",
    "\n",
    "Since our goal is to find $J_m$ we can write:\n",
    "\n",
    "$$\n",
    "J_l = J_m n^2\n",
    "$$\n",
    "\n",
    "where $n$ is still unknow.\n",
    "\n",
    "The reduction ratio tells us how angular velocity changes as motion is transferred through gears. When two gears mesh, the linear velocities at the contact point must match:\n",
    "\n",
    "$$\n",
    "r_A \\omega_A = r_B \\omega_B \\rightarrow \\omega_B = \\frac{r_A}{r_B} \\omega_A\n",
    "$$\n",
    "\n",
    "This leads to the definition of reduction ratio\n",
    "\n",
    "$$\n",
    "n_{AB} = \\frac{\\omega_A}{\\omega_B} = \\frac{r_A}{r_B}\n",
    "$$\n",
    "\n",
    "This ratio is:\n",
    "\n",
    "- Greater than 1 if gear A is smaller than gear B (Actually amplification ratio)\n",
    "- Smaller than 1 if gear B is smaller than gear A\n",
    "\n",
    "With this in mind we can compute the partial reduction ratios:\n",
    "\n",
    "- Between motor and encoder: $n_{me} = r_e/r_m$\n",
    "- Between encoder and link: $n_{el} = r_e/r_l$\n",
    "\n",
    "Combining them gives the total reduction ratio from motor to link:\n",
    "\n",
    "$$\n",
    "n = n_{me} n_{el} = \\frac{r_e}{r_m}\\frac{r_l}{r_e} = \\frac{r_l}{r_m}\n",
    "$$\n",
    "\n",
    "N.B the reduction ratio from the encoder is cancelled, does not alter the system.\n"
   ]
  },
  {
   "cell_type": "code",
   "execution_count": 27,
   "id": "aa3a6af1",
   "metadata": {},
   "outputs": [
    {
     "data": {
      "text/latex": [
       "$\\displaystyle n_{me}= 80.0$"
      ],
      "text/plain": [
       "<IPython.core.display.Math object>"
      ]
     },
     "metadata": {},
     "output_type": "display_data"
    },
    {
     "data": {
      "text/latex": [
       "$\\displaystyle n_{el}= 0.25$"
      ],
      "text/plain": [
       "<IPython.core.display.Math object>"
      ]
     },
     "metadata": {},
     "output_type": "display_data"
    },
    {
     "data": {
      "text/latex": [
       "$\\displaystyle n= 20.0$"
      ],
      "text/plain": [
       "<IPython.core.display.Math object>"
      ]
     },
     "metadata": {},
     "output_type": "display_data"
    },
    {
     "data": {
      "text/latex": [
       "$\\displaystyle J_l= 0.2840$"
      ],
      "text/plain": [
       "<IPython.core.display.Math object>"
      ]
     },
     "metadata": {},
     "output_type": "display_data"
    }
   ],
   "source": [
    "r_m =.5\n",
    "r_e = 40\n",
    "r_l = 10\n",
    "j_m = 7.1e-4\n",
    "n = r_l/r_m\n",
    "j_l = j_m * n**2\n",
    "display(Math(r\"$n_{me}= \"+f\"{r_e/r_m}$\"))\n",
    "display(Math(r\"$n_{el}= \"+f\"{r_l/r_e}$\"))\n",
    "display(Math(r\"$n= \"+f\"{n}$\"))\n",
    "display(Math(r\"$J_l= \"+f\"{j_l:.4f}$\"))\n",
    "\n",
    "\n"
   ]
  },
  {
   "cell_type": "markdown",
   "id": "28dfe152",
   "metadata": {},
   "source": [
    "Now that we got the Link inertia $J_l$, knowing the torque $\\tau_m$ in order to obtain the acceleration of the link $\\ddot{\\theta}_l$ we can use the torque balance formula\n",
    "\n",
    "$$\n",
    "\\tau_m = J_m \\ddot{\\theta}_m + \\frac{J_l\\ddot{\\theta}_l}{n}\n",
    "$$\n",
    "\n",
    "However due to what we said previously about the meaning of the reduction ration, we can write \n",
    "\n",
    "$$\n",
    "\\ddot{\\theta}_m = n \\ddot{\\theta}_l, \\quad J_l= J_m n^2\n",
    "$$\n",
    "\n",
    "So we can rearrange terms:\n",
    "\n",
    "$$\n",
    "\\tau_m = J_m (n \\ddot{\\theta}_l) + \\frac{J_l\\ddot{\\theta}_l}{n} \\rightarrow\n",
    "\\ddot{\\theta}_l = \\frac{\\tau_m n}{2 J_l}\n",
    "$$"
   ]
  },
  {
   "cell_type": "code",
   "execution_count": 28,
   "id": "b46f88d4",
   "metadata": {},
   "outputs": [
    {
     "data": {
      "text/latex": [
       "$\\displaystyle \\ddot{\\theta}_l =  352.1127$"
      ],
      "text/plain": [
       "<IPython.core.display.Math object>"
      ]
     },
     "metadata": {},
     "output_type": "display_data"
    }
   ],
   "source": [
    "tau_m = 10\n",
    "display(Math(r\"$\\ddot{\\theta}_l = \" + f\"{(tau_m * n)/(2 * j_l): .4f}$\"))"
   ]
  },
  {
   "cell_type": "markdown",
   "id": "ec6cbfd6",
   "metadata": {},
   "source": [
    "<!-- TODO: Ask De luca how to solve points 3 and 4, I've never seen the introduction of the resolution so it's not clear what the question is all about -->"
   ]
  },
  {
   "cell_type": "markdown",
   "id": "ed92335b",
   "metadata": {},
   "source": [
    "## Exercise 5\n",
    "\n"
   ]
  },
  {
   "cell_type": "code",
   "execution_count": 29,
   "id": "ad16c013",
   "metadata": {},
   "outputs": [
    {
     "data": {
      "image/png": "[encoded data removed]",
      "text/plain": [
       "<Figure size 640x480 with 1 Axes>"
      ]
     },
     "metadata": {},
     "output_type": "display_data"
    }
   ],
   "source": [
    "t_0 = draw_frame(Rotation.from_axis_angle(Y,-math.pi/2) @ Rotation.from_axis_angle(X,-math.pi/2), label = \"World Frame / Frame 0\")"
   ]
  },
  {
   "cell_type": "markdown",
   "id": "f304e71c",
   "metadata": {},
   "source": [
    "In this case the common normal does not uniquely identifies a direction, so we must fix $z_1$ in the same direction as $z_0$ and we can arbitrarily set $x_1$ ($y_1$ is determined by the right handed frame rule).\n",
    "However we have to take something into account, once we fix the initial Frame 1 as the revolute Joint 1 rotates, also Frame 1 rotates by an amount defined by $q_1$ "
   ]
  },
  {
   "cell_type": "code",
   "execution_count": 30,
   "id": "e38c457c",
   "metadata": {},
   "outputs": [
    {
     "data": {
      "image/png": "[encoded data removed]",
      "text/plain": [
       "<Figure size 640x480 with 1 Axes>"
      ]
     },
     "metadata": {},
     "output_type": "display_data"
    }
   ],
   "source": [
    "t_1 = draw_frame(basis = t_0, label = \"Frame 1\")"
   ]
  },
  {
   "cell_type": "code",
   "execution_count": 31,
   "id": "0eb2f894",
   "metadata": {},
   "outputs": [
    {
     "data": {
      "image/png": "[encoded data removed]",
      "text/plain": [
       "<Figure size 640x480 with 1 Axes>"
      ]
     },
     "metadata": {},
     "output_type": "display_data"
    }
   ],
   "source": [
    "# Coherent with the DH table parameter\n",
    "t_2 = draw_frame(rotation=Rotation.from_axis_angle(X,math.pi/2),basis = t_1, label = \"Frame 2\")"
   ]
  },
  {
   "cell_type": "code",
   "execution_count": 32,
   "id": "5103c76e",
   "metadata": {},
   "outputs": [
    {
     "data": {
      "image/png": "[encoded data removed]",
      "text/plain": [
       "<Figure size 640x480 with 1 Axes>"
      ]
     },
     "metadata": {},
     "output_type": "display_data"
    }
   ],
   "source": [
    "# from the table we should have no rotation so t_2 = t_3 -> colinear the commmon normal can be chosen arbitrarily\n",
    "t_3 = draw_frame(basis = t_2, label = \"Frame 3\")\n"
   ]
  },
  {
   "cell_type": "code",
   "execution_count": 33,
   "id": "4c87683d",
   "metadata": {},
   "outputs": [
    {
     "data": {
      "image/png": "[encoded data removed]",
      "text/plain": [
       "<Figure size 640x480 with 1 Axes>"
      ]
     },
     "metadata": {},
     "output_type": "display_data"
    }
   ],
   "source": [
    "# TODO Ask de luca how tis last frame is computed.\n",
    "t_4 = draw_frame(Rotation.from_axis_angle(Z,math.pi/2), basis = t_3, label = \"Frame 4\")"
   ]
  },
  {
   "cell_type": "code",
   "execution_count": 34,
   "id": "6c5a670e",
   "metadata": {},
   "outputs": [
    {
     "data": {
      "text/latex": [
       "$\n",
       "\\begin{array}{|c|c|c|c|c|}\n",
       "\\hline\n",
       "a & \\alpha & d & \\theta & type \\\\ \\hline\n",
       "0 & 0 & 0 & q_{1} & \\mathrm{Revolute} \\\\[0.5em]\n",
       "0 & \\frac{\\pi}{2} & q_{2} & 0 & \\mathrm{Prismatic} \\\\[0.5em]\n",
       "0 & 0 & q_{3} & 0 & \\mathrm{Prismatic} \\\\[0.5em]\n",
       "L & 0 & 0 & q_{4} & \\mathrm{Revolute} \\\\[0.5em]\n",
       "\\hline\n",
       "\\end{array}\n",
       "$"
      ],
      "text/plain": [
       "   a alpha    d theta       type\n",
       "0  0     0    0   q_1   REVOLUTE\n",
       "1  0  pi/2  q_2     0  PRISMATIC\n",
       "2  0     0  q_3     0  PRISMATIC\n",
       "3  L     0    0   q_4   REVOLUTE"
      ]
     },
     "execution_count": 34,
     "metadata": {},
     "output_type": "execute_result"
    }
   ],
   "source": [
    "x_rotations = [ 0, sympy.pi/2, 0,0]\n",
    "x_offsets = [0,0,0,sympy.symbols(\"L\")]\n",
    "joint_types =[\n",
    "    JointType.REVOLUTE,\n",
    "    JointType.PRISMATIC,\n",
    "    JointType.PRISMATIC,\n",
    "    JointType.REVOLUTE,\n",
    "\n",
    "]\n",
    "man = Manipulator(\n",
    "    x_offsets=x_offsets,\n",
    "    x_rotations=x_rotations,\n",
    "    joint_types=joint_types\n",
    ")\n",
    "man.dh_table() # Should match the provided by the excercise"
   ]
  },
  {
   "cell_type": "code",
   "execution_count": 35,
   "id": "c31e685e",
   "metadata": {},
   "outputs": [
    {
     "data": {
      "text/latex": [
       "$\\displaystyle \\left[\\begin{matrix}\\cos{\\left(q_{1} \\right)} \\cos{\\left(q_{4} \\right)} & - \\sin{\\left(q_{4} \\right)} \\cos{\\left(q_{1} \\right)} & \\sin{\\left(q_{1} \\right)} & L \\cos{\\left(q_{1} \\right)} \\cos{\\left(q_{4} \\right)} + q_{3} \\sin{\\left(q_{1} \\right)}\\\\\\sin{\\left(q_{1} \\right)} \\cos{\\left(q_{4} \\right)} & - \\sin{\\left(q_{1} \\right)} \\sin{\\left(q_{4} \\right)} & - \\cos{\\left(q_{1} \\right)} & L \\sin{\\left(q_{1} \\right)} \\cos{\\left(q_{4} \\right)} - q_{3} \\cos{\\left(q_{1} \\right)}\\\\\\sin{\\left(q_{4} \\right)} & \\cos{\\left(q_{4} \\right)} & 0 & L \\sin{\\left(q_{4} \\right)} + q_{2}\\\\0 & 0 & 0 & 1.0\\end{matrix}\\right]$"
      ],
      "text/plain": [
       "Matrix([\n",
       "[cos(q_1)*cos(q_4), -sin(q_4)*cos(q_1),  sin(q_1), L*cos(q_1)*cos(q_4) + q_3*sin(q_1)],\n",
       "[sin(q_1)*cos(q_4), -sin(q_1)*sin(q_4), -cos(q_1), L*sin(q_1)*cos(q_4) - q_3*cos(q_1)],\n",
       "[         sin(q_4),           cos(q_4),         0,                   L*sin(q_4) + q_2],\n",
       "[                0,                  0,         0,                                1.0]])"
      ]
     },
     "execution_count": 35,
     "metadata": {},
     "output_type": "execute_result"
    }
   ],
   "source": [
    "t_e = (t_4.T @ t_e).round().evalf()\n",
    "\n",
    "(man.dh_matrix()).evalf() # To check that it mat"
   ]
  },
  {
   "cell_type": "markdown",
   "id": "5114b86d",
   "metadata": {},
   "source": [
    "Solving the inverse kinematic problem consists of determining the joint variables associated to a specific end-effector position.\n",
    "There are two ways to solve this problem:\n",
    "\n",
    "- Analytical solution: the result is a closed form system of equations, it can be found via geometric inspection and through algebraic methods\n",
    "- Numerical solution: is found through the use of an iterative approach\n",
    "\n",
    "As far as the analytical solution goes, we can employ some algebraic manipulations, keeping in mind that $\\bold{r}(p_x,p_y,p_z)$ are known.\n",
    "First we can easily see that: \n",
    "\n",
    "$$\n",
    "q_4 = \\alpha\n",
    "$$\n",
    "\n",
    "Now we can substitute in the other equations:\n",
    "\n",
    "$$\n",
    "p_x = L cos(q_1)cos(\\alpha) + q_3 sin(q_1) \\\\\n",
    "p_y = L sin(q_1)cos(\\alpha) - q_3 cos(q_1) \\\\\n",
    "p_z = L sin(\\alpha) + q_2 \\\\\n",
    "$$"
   ]
  },
  {
   "cell_type": "markdown",
   "id": "f0768576",
   "metadata": {},
   "source": [
    "$$\n",
    "q_2 = p_z - L sin(\\alpha)\n",
    "$$\n"
   ]
  },
  {
   "cell_type": "markdown",
   "id": "6c3e3b5c",
   "metadata": {},
   "source": [
    "$$\n",
    "p_x + p_y = L cos(\\alpha) (cos(q_1) + sin(q_1)) + q_3 (sin(q_1) - cos(q_1))\n",
    "$$"
   ]
  },
  {
   "cell_type": "markdown",
   "id": "ca10aa82",
   "metadata": {},
   "source": [
    "$$\n",
    "p_x^2 = L^2 cos(q_1)^2 cos(\\alpha)^2 + 2 L q_3 cos(q_1)cos(\\alpha)sin(q_1) + q_3^2 sin(q_1) ^2 \\\\\n",
    "p_y^2 = L^2 sin(q_1)^2 cos(\\alpha)^2 - 2 L q_3 sin(q_1)cos(\\alpha)cos(q_1) + q_3^2 cos(q_1) ^2 \\\\\n",
    "p_x^2 + p_y^2 = L^2 cos(\\alpha)^2 + q_3 ^2\n",
    "$$"
   ]
  },
  {
   "cell_type": "markdown",
   "id": "08b87e28",
   "metadata": {},
   "source": [
    "$$\n",
    "q_3 = \\pm \\sqrt{p_x^2 + p_y^2 - L^2 cos(\\alpha)^2}\n",
    "$$"
   ]
  },
  {
   "cell_type": "markdown",
   "id": "56ec96df",
   "metadata": {},
   "source": [
    "For the same end-effector position and orientation there can be two configurations of the robot arm:\n",
    "\n",
    "- One where the joint $q_3$ moves forward\n",
    "- One where the joint $q_3$ moves backward\n",
    "\n",
    "That results in the same overall result.\n",
    "This ambiguity comes from the special relationship that $q_1$ and $q_3$ have.\n",
    "In particular the position along $x$ and $y$ is expressed as a combination of a rotation followed by a translation.\n",
    "Both terms contain a trigonometric term in $q_1$ and a linear term in $q_3$.\n",
    "\n",
    "The critical insight is that $q_3$ is computed as either a positive or negative root of a squared quantity. This implies that two values of exist, symmetric around zero, each associated with a different value of to preserve the correct direction of the vector in the plane. Geometrically, these represent two distinct configurations: one where the robot rotates to face the target point and extends positively along its frame, and one where the robot rotates in the opposite direction and extends negatively — yet both reach the same end-effector position in space.\n",
    "Now we go back to the equations:\n",
    "\n",
    "$$\n",
    "p_x = L cos(q_1)cos(\\alpha) + q_3 sin(q_1) \\\\\n",
    "p_y = L sin(q_1)cos(\\alpha) - q_3 cos(q_1) \\\\\n",
    "$$\n",
    "\n",
    "By treating $q_1$ as unknown we can write it as a linear system.\n",
    "\n",
    "$$\n",
    "\\begin{pmatrix} L \\cos \\alpha_d & q_3^{+,-} \\\\ - q_3^{+,-} & L \\cos \\alpha_d \\end{pmatrix} \\begin{pmatrix} \\cos q_1 \\\\ \\sin q_1 \\end{pmatrix} = \\begin{pmatrix} p_{xd} \\\\ p_{yd} \\end{pmatrix}\n",
    "$$\n",
    "\n",
    "But instead of solving the linear system symbolically and then dividing, we take advantage of a shortcut.\n",
    "\n",
    "$$\n",
    "q_1^{\\pm} =  atan2(sin(q_1),cos(q_1))\n",
    "$$"
   ]
  },
  {
   "cell_type": "markdown",
   "id": "db09a74d",
   "metadata": {},
   "source": []
  }
 ],
 "metadata": {
  "kernelspec": {
   "display_name": ".venv",
   "language": "python",
   "name": "python3"
  },
  "language_info": {
   "codemirror_mode": {
    "name": "ipython",
    "version": 3
   },
   "file_extension": ".py",
   "mimetype": "text/x-python",
   "name": "python",
   "nbconvert_exporter": "python",
   "pygments_lexer": "ipython3",
   "version": "3.13.3"
  }
 },
 "nbformat": 4,
 "nbformat_minor": 5
}
