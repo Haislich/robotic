{
 "cells": [
  {
   "cell_type": "markdown",
   "id": "3718e0a5",
   "metadata": {},
   "source": [
    "# Mid term November 22, 2024"
   ]
  },
  {
   "cell_type": "markdown",
   "id": "c403f69f",
   "metadata": {},
   "source": [
    "## Imports"
   ]
  },
  {
   "cell_type": "code",
   "execution_count": 29,
   "id": "247356f0",
   "metadata": {},
   "outputs": [],
   "source": [
    "import sympy\n",
    "from IPython.display import display, Math\n",
    "from robotic.manipulator import JointType, Manipulator\n",
    "from robotic.transformations import (\n",
    "    Axis,\n",
    "    EulerOrder,\n",
    "    EulerSequence,\n",
    "    HomogeneousTransformation,\n",
    "    Rotation,\n",
    "    Translation,\n",
    "    X,\n",
    "    Y,\n",
    "    Z,\n",
    ")\n",
    "\n"
   ]
  },
  {
   "cell_type": "markdown",
   "id": "c9b37ca2",
   "metadata": {},
   "source": [
    "## Esercise 1\n",
    "\n",
    "We begin by defining the initial orientation $R_i$ using fixed $ZXY$ euler angles, where the angles are known and can be substituted directly:\n",
    "\n",
    "$$\n",
    "\\alpha = \\frac{\\pi}{2}, \\beta = \\frac{\\pi}{4}, \\gamma = \\frac{\\pi}{6}\n",
    "$$"
   ]
  },
  {
   "cell_type": "code",
   "execution_count": 18,
   "id": "d44eec2f",
   "metadata": {},
   "outputs": [
    {
     "data": {
      "text/latex": [
       "$\\displaystyle \\left[\\begin{matrix}0.5 & -0.7071 & 0.5\\\\0.7071 & 0 & -0.7071\\\\0.5 & 0.7071 & 0.5\\end{matrix}\\right]$"
      ],
      "text/plain": [
       "Matrix([\n",
       "[   0.5, -0.7071,     0.5],\n",
       "[0.7071,       0, -0.7071],\n",
       "[   0.5,  0.7071,     0.5]])"
      ]
     },
     "execution_count": 18,
     "metadata": {},
     "output_type": "execute_result"
    }
   ],
   "source": [
    "alpha = sympy.pi/2\n",
    "beta= sympy.pi/4\n",
    "gamma = - sympy.pi/4\n",
    "initial_rot: Rotation = Rotation.from_euler(\n",
    "        (alpha, beta, gamma),\n",
    "        EulerSequence.ZXY,\n",
    "        EulerOrder.FIXED,\n",
    "    )\n",
    "initial_rot.evalf().round(4)"
   ]
  },
  {
   "cell_type": "markdown",
   "id": "9a30372c",
   "metadata": {},
   "source": [
    "Next, the final orientation $R_f$ is specified using an axis-angle representation with axis of rotation and amount known:\n",
    "\n",
    "$$\n",
    "\\bold{r} =(0, -\\frac{\\sqrt{2}}{2},\\frac{\\sqrt{2}}{2}), \\quad \\theta= \\frac{\\pi}{6}\n",
    "$$ "
   ]
  },
  {
   "cell_type": "code",
   "execution_count": 20,
   "id": "a0eed0ed",
   "metadata": {},
   "outputs": [
    {
     "data": {
      "text/latex": [
       "$\\displaystyle \\left[\\begin{matrix}0.866 & -0.3536 & -0.3536\\\\0.3536 & 0.933 & -0.067\\\\0.3536 & -0.067 & 0.933\\end{matrix}\\right]$"
      ],
      "text/plain": [
       "Matrix([\n",
       "[ 0.866, -0.3536, -0.3536],\n",
       "[0.3536,   0.933,  -0.067],\n",
       "[0.3536,  -0.067,   0.933]])"
      ]
     },
     "execution_count": 20,
     "metadata": {},
     "output_type": "execute_result"
    }
   ],
   "source": [
    "theta = sympy.pi/6\n",
    "r = Axis(0, -sympy.sqrt(2) / 2.0, sympy.sqrt(2) / 2)\n",
    "final_rot = Rotation.from_axis_angle(\n",
    "       r , theta\n",
    "    )\n",
    "final_rot.evalf().round()"
   ]
  },
  {
   "cell_type": "markdown",
   "id": "b18cfe66",
   "metadata": {},
   "source": [
    "Now we compute the relative transformation $R_{if}$ which represents the rotation that brings the initial frame $R_i$ into alignment with the final frame $R_f$:\n",
    "\n",
    "$$\n",
    "R_f = R_i R_{if} \\rightarrow R_{if} = R_i^T R_f\n",
    "$$"
   ]
  },
  {
   "cell_type": "code",
   "execution_count": 22,
   "id": "7a366964",
   "metadata": {},
   "outputs": [
    {
     "data": {
      "text/latex": [
       "$\\displaystyle \\left[\\begin{matrix}0.8598 & 0.4495 & 0.2424\\\\-0.3624 & 0.2026 & 0.9097\\\\0.3598 & -0.87 & 0.3371\\end{matrix}\\right]$"
      ],
      "text/plain": [
       "Matrix([\n",
       "[ 0.8598, 0.4495, 0.2424],\n",
       "[-0.3624, 0.2026, 0.9097],\n",
       "[ 0.3598,  -0.87, 0.3371]])"
      ]
     },
     "execution_count": 22,
     "metadata": {},
     "output_type": "execute_result"
    }
   ],
   "source": [
    "r_trans: Rotation = initial_rot.T @ final_rot\n",
    "r_trans.evalf().round()"
   ]
  },
  {
   "cell_type": "markdown",
   "id": "c7799035",
   "metadata": {},
   "source": [
    "Finally we can extract the Eler angles $\\phi, \\chi, \\psi$ around YXY assuming a fixed convention"
   ]
  },
  {
   "cell_type": "code",
   "execution_count": 32,
   "id": "216e0c66",
   "metadata": {},
   "outputs": [
    {
     "data": {
      "text/latex": [
       "$\\displaystyle \\phi = -2.76253069016142$"
      ],
      "text/plain": [
       "<IPython.core.display.Math object>"
      ]
     },
     "metadata": {},
     "output_type": "display_data"
    },
    {
     "data": {
      "text/latex": [
       "$\\displaystyle \\chi = 1.36675054734807$"
      ],
      "text/plain": [
       "<IPython.core.display.Math object>"
      ]
     },
     "metadata": {},
     "output_type": "display_data"
    },
    {
     "data": {
      "text/latex": [
       "$\\displaystyle \\psi = 2.66473333629781$"
      ],
      "text/plain": [
       "<IPython.core.display.Math object>"
      ]
     },
     "metadata": {},
     "output_type": "display_data"
    }
   ],
   "source": [
    "(phi, chi, psi), _, _ = r_trans.to_euler(EulerSequence.YXY, EulerOrder.FIXED)\n",
    "display(Math(rf\"\\phi = {phi.evalf()}\"))\n",
    "display(Math(rf\"\\chi = {chi.evalf()}\"))\n",
    "display(Math(rf\"\\psi = {psi.evalf()}\"))\n"
   ]
  },
  {
   "cell_type": "code",
   "execution_count": null,
   "id": "75c613d7",
   "metadata": {},
   "outputs": [],
   "source": []
  }
 ],
 "metadata": {
  "kernelspec": {
   "display_name": ".venv",
   "language": "python",
   "name": "python3"
  },
  "language_info": {
   "codemirror_mode": {
    "name": "ipython",
    "version": 3
   },
   "file_extension": ".py",
   "mimetype": "text/x-python",
   "name": "python",
   "nbconvert_exporter": "python",
   "pygments_lexer": "ipython3",
   "version": "3.13.3"
  }
 },
 "nbformat": 4,
 "nbformat_minor": 5
}
