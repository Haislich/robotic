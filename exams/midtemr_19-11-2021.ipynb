{
 "cells": [
  {
   "cell_type": "markdown",
   "id": "1ee961e5",
   "metadata": {},
   "source": [
    "# Midterm November 19, 2021"
   ]
  },
  {
   "cell_type": "code",
   "execution_count": 1,
   "id": "46fc4893",
   "metadata": {},
   "outputs": [
    {
     "name": "stderr",
     "output_type": "stream",
     "text": [
      "\u001b[32m2025-04-25 21:38:59.075\u001b[0m | \u001b[33m\u001b[1mWARNING \u001b[0m | \u001b[36mrobotic.transformations\u001b[0m:\u001b[36m__new__\u001b[0m:\u001b[36m186\u001b[0m - \u001b[33m\u001b[1mSkipping numeric validation: matrix is symbolic\u001b[0m\n",
      "\u001b[32m2025-04-25 21:38:59.076\u001b[0m | \u001b[33m\u001b[1mWARNING \u001b[0m | \u001b[36mrobotic.transformations\u001b[0m:\u001b[36m__new__\u001b[0m:\u001b[36m186\u001b[0m - \u001b[33m\u001b[1mSkipping numeric validation: matrix is symbolic\u001b[0m\n"
     ]
    }
   ],
   "source": [
    "import sympy\n",
    "import math\n",
    "from IPython.display import display, Math\n",
    "from robotic.manipulator import JointType, Manipulator\n",
    "from robotic.utils import draw_frame\n",
    "from robotic.transformations import (\n",
    "    Axis,\n",
    "    EulerOrder,\n",
    "    EulerSequence,\n",
    "    EulerSpec,\n",
    "    HomogeneousTransformation,\n",
    "    Rotation,\n",
    "    Translation,\n",
    "    X,\n",
    "    Y,\n",
    "    Z,\n",
    ")"
   ]
  },
  {
   "cell_type": "markdown",
   "id": "c27f760f",
   "metadata": {},
   "source": [
    "# Exercise 1"
   ]
  },
  {
   "cell_type": "code",
   "execution_count": 2,
   "id": "5953ead6",
   "metadata": {},
   "outputs": [
    {
     "name": "stderr",
     "output_type": "stream",
     "text": [
      "\u001b[32m2025-04-25 21:38:59.102\u001b[0m | \u001b[33m\u001b[1mWARNING \u001b[0m | \u001b[36mrobotic.transformations\u001b[0m:\u001b[36m__new__\u001b[0m:\u001b[36m186\u001b[0m - \u001b[33m\u001b[1mSkipping numeric validation: matrix is symbolic\u001b[0m\n",
      "\u001b[32m2025-04-25 21:38:59.104\u001b[0m | \u001b[33m\u001b[1mWARNING \u001b[0m | \u001b[36mrobotic.transformations\u001b[0m:\u001b[36m__new__\u001b[0m:\u001b[36m186\u001b[0m - \u001b[33m\u001b[1mSkipping numeric validation: matrix is symbolic\u001b[0m\n",
      "\u001b[32m2025-04-25 21:38:59.109\u001b[0m | \u001b[33m\u001b[1mWARNING \u001b[0m | \u001b[36mrobotic.transformations\u001b[0m:\u001b[36m__new__\u001b[0m:\u001b[36m186\u001b[0m - \u001b[33m\u001b[1mSkipping numeric validation: matrix is symbolic\u001b[0m\n",
      "\u001b[32m2025-04-25 21:38:59.119\u001b[0m | \u001b[33m\u001b[1mWARNING \u001b[0m | \u001b[36mrobotic.transformations\u001b[0m:\u001b[36m__new__\u001b[0m:\u001b[36m186\u001b[0m - \u001b[33m\u001b[1mSkipping numeric validation: matrix is symbolic\u001b[0m\n"
     ]
    },
    {
     "data": {
      "text/latex": [
       "$\\displaystyle \\left[\\begin{matrix}0.622 & -0.744 & -0.244\\\\0.6667 & 0.6667 & -0.3333\\\\0.4107 & 0.0447 & 0.9107\\end{matrix}\\right]$"
      ],
      "text/plain": [
       "Matrix([\n",
       "[ 0.622, -0.744,  -0.244],\n",
       "[0.6667, 0.6667, -0.3333],\n",
       "[0.4107, 0.0447,  0.9107]])"
      ]
     },
     "execution_count": 2,
     "metadata": {},
     "output_type": "execute_result"
    }
   ],
   "source": [
    "theta, phi = sympy.symbols(\"theta phi\")\n",
    "r= Rotation.from_axis_angle((Y,phi))@Rotation.from_axis_angle((Axis(1/sympy.sqrt(3),1/sympy.sqrt(3),1/sympy.sqrt(3)), theta))\n",
    "r.subs({\"phi\": -sympy.pi/3, \"theta\": sympy.pi/3}).evalf().round()"
   ]
  },
  {
   "cell_type": "markdown",
   "id": "795467e7",
   "metadata": {},
   "source": [
    "# Exercise 2"
   ]
  },
  {
   "cell_type": "code",
   "execution_count": 7,
   "id": "22d46309",
   "metadata": {},
   "outputs": [
    {
     "name": "stderr",
     "output_type": "stream",
     "text": [
      "\u001b[32m2025-04-25 21:41:03.124\u001b[0m | \u001b[33m\u001b[1mWARNING \u001b[0m | \u001b[36mrobotic.transformations\u001b[0m:\u001b[36m__new__\u001b[0m:\u001b[36m186\u001b[0m - \u001b[33m\u001b[1mSkipping numeric validation: matrix is symbolic\u001b[0m\n",
      "\u001b[32m2025-04-25 21:41:03.125\u001b[0m | \u001b[33m\u001b[1mWARNING \u001b[0m | \u001b[36mrobotic.transformations\u001b[0m:\u001b[36m__new__\u001b[0m:\u001b[36m186\u001b[0m - \u001b[33m\u001b[1mSkipping numeric validation: matrix is symbolic\u001b[0m\n",
      "\u001b[32m2025-04-25 21:41:03.125\u001b[0m | \u001b[33m\u001b[1mWARNING \u001b[0m | \u001b[36mrobotic.transformations\u001b[0m:\u001b[36m__new__\u001b[0m:\u001b[36m186\u001b[0m - \u001b[33m\u001b[1mSkipping numeric validation: matrix is symbolic\u001b[0m\n"
     ]
    },
    {
     "data": {
      "text/plain": [
       "(1.57079632679490, 1.04719755119660, 0)"
      ]
     },
     "execution_count": 7,
     "metadata": {},
     "output_type": "execute_result"
    }
   ],
   "source": [
    "r_i = Rotation(sympy.Matrix(\n",
    "    [\n",
    "        [0, .5 ,- sympy.sqrt(3)/2],\n",
    "        [-1 ,0 ,0],\n",
    "        [0, sympy.sqrt(3)/2, .5]\n",
    "    ]\n",
    "))\n",
    "r_f = Rotation.identity()\n",
    "r_if: Rotation = (r_i.T @ r_f)\n",
    "euler_spec = r_if.to_euler(EulerSequence.ZYZ, EulerOrder.FIXED)\n",
    "\n",
    "(\n",
    "euler_spec[0].euler_angles.theta1.evalf(), \n",
    "euler_spec[0].euler_angles.theta2.evalf(),\n",
    "euler_spec[0].euler_angles.theta3.evalf(),)"
   ]
  },
  {
   "cell_type": "code",
   "execution_count": 8,
   "id": "a0e21a4f",
   "metadata": {},
   "outputs": [
    {
     "data": {
      "text/plain": [
       "(-1.57079632679490, -1.04719755119660, 3.14159265358979)"
      ]
     },
     "execution_count": 8,
     "metadata": {},
     "output_type": "execute_result"
    }
   ],
   "source": [
    "\n",
    "(euler_spec[1].euler_angles.theta1.evalf(), \n",
    "euler_spec[1].euler_angles.theta2.evalf(),\n",
    "euler_spec[1].euler_angles.theta3.evalf(),)"
   ]
  },
  {
   "cell_type": "code",
   "execution_count": null,
   "id": "e95b5577",
   "metadata": {},
   "outputs": [],
   "source": []
  }
 ],
 "metadata": {
  "kernelspec": {
   "display_name": ".venv",
   "language": "python",
   "name": "python3"
  },
  "language_info": {
   "codemirror_mode": {
    "name": "ipython",
    "version": 3
   },
   "file_extension": ".py",
   "mimetype": "text/x-python",
   "name": "python",
   "nbconvert_exporter": "python",
   "pygments_lexer": "ipython3",
   "version": "3.13.3"
  }
 },
 "nbformat": 4,
 "nbformat_minor": 5
}
