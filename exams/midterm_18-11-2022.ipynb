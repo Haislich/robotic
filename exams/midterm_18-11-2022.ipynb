{
 "cells": [
  {
   "cell_type": "markdown",
   "id": "d4696db5",
   "metadata": {},
   "source": [
    "# Midterm 18 novembre 2022"
   ]
  },
  {
   "cell_type": "code",
   "execution_count": 3,
   "id": "caa6fd45",
   "metadata": {},
   "outputs": [],
   "source": [
    "import sympy\n",
    "import math\n",
    "from IPython.display import display, Math\n",
    "from robotic.manipulator import JointType, Manipulator\n",
    "from robotic.utils import draw_frame\n",
    "from robotic.transformations import (\n",
    "    Axis,\n",
    "    EulerOrder,\n",
    "    EulerSequence,\n",
    "    HomogeneousTransformation,\n",
    "    Rotation,\n",
    "    AxisAngleSpec,\n",
    ")"
   ]
  },
  {
   "cell_type": "markdown",
   "id": "a4702c98",
   "metadata": {},
   "source": [
    "# Excercise 1"
   ]
  },
  {
   "cell_type": "code",
   "execution_count": 4,
   "id": "1d660099",
   "metadata": {},
   "outputs": [
    {
     "data": {
      "text/latex": [
       "$\\displaystyle \\left[\\begin{matrix}-0.666666666666667 & 0.666666666666667 & -0.333333333333333\\\\0.666666666666667 & 0.333333333333333 & -0.666666666666667\\\\-0.333333333333333 & -0.666666666666667 & -0.666666666666667\\end{matrix}\\right]$"
      ],
      "text/plain": [
       "Matrix([\n",
       "[-0.666666666666667,  0.666666666666667, -0.333333333333333],\n",
       "[ 0.666666666666667,  0.333333333333333, -0.666666666666667],\n",
       "[-0.333333333333333, -0.666666666666667, -0.666666666666667]])"
      ]
     },
     "execution_count": 4,
     "metadata": {},
     "output_type": "execute_result"
    }
   ],
   "source": [
    "r_d =  Rotation(1/3 *sympy.Matrix([\n",
    "    [-2,2,-1],\n",
    "    [2,1,-2],\n",
    "    [-1,-2,-2]\n",
    "]))\n",
    "r_d"
   ]
  },
  {
   "cell_type": "code",
   "execution_count": 5,
   "id": "08867bc4",
   "metadata": {},
   "outputs": [
    {
     "name": "stdout",
     "output_type": "stream",
     "text": [
      "pi\n",
      "0\n"
     ]
    },
    {
     "data": {
      "text/plain": [
       "AxisAngleSpec(axis=Axis(0.408248290463863, 0.816496580927726, 0.408248290463863), theta=pi)"
      ]
     },
     "execution_count": 5,
     "metadata": {},
     "output_type": "execute_result"
    }
   ],
   "source": [
    "r_d_axis_spec = r_d.to_axis_angle()\n",
    "r_d_axis_spec"
   ]
  },
  {
   "cell_type": "code",
   "execution_count": 6,
   "id": "e1c76040",
   "metadata": {},
   "outputs": [
    {
     "data": {
      "text/latex": [
       "$\\displaystyle \\left[\\begin{matrix}-0.666666666666667 & 0.666666666666667 & 0.333333333333333\\\\0.666666666666667 & 0.333333333333333 & 0.666666666666667\\\\0.333333333333333 & 0.666666666666667 & -0.666666666666667\\end{matrix}\\right]$"
      ],
      "text/plain": [
       "Matrix([\n",
       "[-0.666666666666667, 0.666666666666667,  0.333333333333333],\n",
       "[ 0.666666666666667, 0.333333333333333,  0.666666666666667],\n",
       "[ 0.333333333333333, 0.666666666666667, -0.666666666666667]])"
      ]
     },
     "execution_count": 6,
     "metadata": {},
     "output_type": "execute_result"
    }
   ],
   "source": [
    "Rotation.from_axis_angle(r_d_axis_spec)"
   ]
  },
  {
   "cell_type": "code",
   "execution_count": 9,
   "id": "35770315",
   "metadata": {},
   "outputs": [
    {
     "data": {
      "text/plain": [
       "AxisAngleSpec(axis=Axis(-0.408248290463863, -0.816496580927726, -0.408248290463863), theta=pi)"
      ]
     },
     "execution_count": 9,
     "metadata": {},
     "output_type": "execute_result"
    }
   ],
   "source": [
    "nr_d_axis_spec = AxisAngleSpec(-r_d_axis_spec.axis,r_d_axis_spec.theta)\n",
    "Rotation.from_axis_angle(nr_d_axis_spec)\n",
    "nr_d_axis_spec"
   ]
  },
  {
   "cell_type": "code",
   "execution_count": null,
   "id": "40595e30",
   "metadata": {},
   "outputs": [],
   "source": []
  }
 ],
 "metadata": {
  "kernelspec": {
   "display_name": ".venv",
   "language": "python",
   "name": "python3"
  },
  "language_info": {
   "codemirror_mode": {
    "name": "ipython",
    "version": 3
   },
   "file_extension": ".py",
   "mimetype": "text/x-python",
   "name": "python",
   "nbconvert_exporter": "python",
   "pygments_lexer": "ipython3",
   "version": "3.13.3"
  }
 },
 "nbformat": 4,
 "nbformat_minor": 5
}
