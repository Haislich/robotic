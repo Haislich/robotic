{
 "cells": [
  {
   "cell_type": "markdown",
   "id": "320e3f99",
   "metadata": {},
   "source": [
    "# Trigonometric formulas\n",
    "\n",
    "$$\n",
    "sin( \\alpha + \\beta) = sin(\\alpha)cos(\\beta) + cos(\\alpha)sin(\\beta) \\\\\n",
    "sin( \\alpha - \\beta) = sin(\\alpha)cos(\\beta) - cos(\\alpha)sin(\\beta) \\\\\n",
    "cos( \\alpha + \\beta) = cos(\\alpha)cos(\\beta) - sin(\\alpha)sin(\\beta) \\\\\n",
    "cos( \\alpha - \\beta) = cos(\\alpha)cos(\\beta) + sin(\\alpha)sin(\\beta) \\\\\n",
    "$$"
   ]
  },
  {
   "cell_type": "markdown",
   "id": "6b9b8f65",
   "metadata": {},
   "source": []
  },
  {
   "cell_type": "markdown",
   "id": "39fe44b8",
   "metadata": {},
   "source": []
  }
 ],
 "metadata": {
  "language_info": {
   "name": "python"
  }
 },
 "nbformat": 4,
 "nbformat_minor": 5
}
