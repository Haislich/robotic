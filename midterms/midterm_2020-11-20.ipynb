{
 "cells": [
  {
   "cell_type": "markdown",
   "id": "e0fdbf7a",
   "metadata": {},
   "source": [
    "# Midterm November 20, 2020"
   ]
  },
  {
   "cell_type": "code",
   "execution_count": 1,
   "id": "e7c41ae2",
   "metadata": {},
   "outputs": [
    {
     "name": "stdout",
     "output_type": "stream",
     "text": [
      "Axis(0, 1, 0)\n"
     ]
    }
   ],
   "source": [
    "import sympy\n",
    "import math\n",
    "from IPython.display import display, Math\n",
    "from robotic.manipulator import JointType, Manipulator\n",
    "from robotic import scalar_repr_latex\n",
    "from robotic.utils import draw_frame\n",
    "from robotic.transformations import (\n",
    "    Axis,\n",
    "    AxisAngleSpec,\n",
    "    EulerOrder,\n",
    "    EulerSequence,\n",
    "    EulerSpec,\n",
    "    HomogeneousTransformation,\n",
    "    Rotation,\n",
    "    Translation,\n",
    "    X,\n",
    "    Y,\n",
    "    Z,\n",
    ")"
   ]
  },
  {
   "cell_type": "markdown",
   "id": "7cfb899a",
   "metadata": {},
   "source": [
    "## Question 1"
   ]
  },
  {
   "cell_type": "code",
   "execution_count": 2,
   "id": "8b39b029",
   "metadata": {},
   "outputs": [
    {
     "data": {
      "text/latex": [
       "$\\displaystyle \\left[\\begin{matrix}0 & 0.7071 & -0.7071\\\\-0.7071 & -0.5 & -0.5\\\\-0.7071 & 0.5 & 0.5\\end{matrix}\\right]$"
      ],
      "text/plain": [
       "Matrix([\n",
       "[      0, 0.7071, -0.7071],\n",
       "[-0.7071,   -0.5,    -0.5],\n",
       "[-0.7071,    0.5,     0.5]])"
      ]
     },
     "execution_count": 2,
     "metadata": {},
     "output_type": "execute_result"
    }
   ],
   "source": [
    "rotation = Rotation.from_euler(((-sympy.pi/2,-sympy.pi/4,sympy.pi/4),\"ZYX\",\"FIXED\"))\n",
    "rotation.evalf().round()"
   ]
  },
  {
   "cell_type": "markdown",
   "id": "855c7d18",
   "metadata": {},
   "source": [
    "In case of axis angle representation, is known that\n",
    "\n",
    "$$\n",
    "R(\\theta,\\bold{r}) \\bold{r} = \\bold{r}\n",
    "$$\n",
    "\n",
    "So, if we solve the inverse problem, from an axis angle prespective, we find the overall axis of rotation $\\bold{r}$, which meets the requirements"
   ]
  },
  {
   "cell_type": "code",
   "execution_count": 3,
   "id": "b14c13ad",
   "metadata": {},
   "outputs": [
    {
     "name": "stderr",
     "output_type": "stream",
     "text": [
      "INFO | Regular case, theta = 2.09439510239320\n"
     ]
    },
    {
     "data": {
      "text/latex": [
       "Axis($x = \\displaystyle 0.577350269189626$, $y = \\displaystyle 0$, $z = \\displaystyle -0.816496580927726$)"
      ],
      "text/plain": [
       "Axis(0.577350269189626, 0, -0.816496580927726)"
      ]
     },
     "execution_count": 3,
     "metadata": {},
     "output_type": "execute_result"
    }
   ],
   "source": [
    "axis_angle_spec  = rotation.to_axis_angle()\n",
    "if isinstance(axis_angle_spec,tuple):\n",
    "    axis= axis_angle_spec[0].axis\n",
    "elif isinstance(axis_angle_spec,AxisAngleSpec):\n",
    "    axis = axis_angle_spec.axis\n",
    "else:\n",
    "    raise ValueError(\"No symbols used , we should have a valid axis angle spec\")\n",
    "\n",
    "axis.evalf()"
   ]
  },
  {
   "cell_type": "markdown",
   "id": "5c9e3bce",
   "metadata": {},
   "source": [
    "## Question 2"
   ]
  },
  {
   "cell_type": "code",
   "execution_count": 4,
   "id": "02a059b3",
   "metadata": {},
   "outputs": [
    {
     "data": {
      "text/latex": [
       "$\\displaystyle \\left[\\begin{matrix}0 & -0.5 & - 0.5 \\sqrt{3}\\\\1 & 0 & 0\\\\0 & - 0.5 \\sqrt{3} & 0.5\\end{matrix}\\right]$"
      ],
      "text/plain": [
       "Matrix([\n",
       "[0,         -0.5, -0.5*sqrt(3)],\n",
       "[1,            0,            0],\n",
       "[0, -0.5*sqrt(3),          0.5]])"
      ]
     },
     "execution_count": 4,
     "metadata": {},
     "output_type": "execute_result"
    }
   ],
   "source": [
    "r_i = Rotation(\n",
    "    sympy.Matrix([\n",
    "        [0,1,0],\n",
    "        [.5,0, sympy.sympify(.5) * sympy.sqrt(3)  ],\n",
    "        [sympy.sympify(.5) * sympy.sqrt(3),0, - .5]\n",
    "    ])\n",
    ")\n",
    "r_f = Rotation(\n",
    "    sympy.Matrix([\n",
    "        [1,0,0],\n",
    "        [0,-1,0 ],\n",
    "        [0,0,-1]\n",
    "    ])\n",
    ")\n",
    "r_if = r_i.T @ r_f\n",
    "r_if"
   ]
  },
  {
   "cell_type": "code",
   "execution_count": 5,
   "id": "e799bbb5",
   "metadata": {},
   "outputs": [
    {
     "name": "stderr",
     "output_type": "stream",
     "text": [
      "INFO | Regular case, theta = 1.82347658193698\n"
     ]
    }
   ],
   "source": [
    "axis_angle_spec  = r_if.to_axis_angle()"
   ]
  },
  {
   "cell_type": "code",
   "execution_count": 6,
   "id": "a9ec4733",
   "metadata": {},
   "outputs": [
    {
     "data": {
      "text/plain": [
       "(Axis(-0.447213595499958, -0.447213595499958, 0.774596669241483),\n",
       " -1.31811607165282 + pi,\n",
       " Axis(0.447213595499958, 0.447213595499958, -0.774596669241483),\n",
       " -1.31811607165282 + pi)"
      ]
     },
     "execution_count": 6,
     "metadata": {},
     "output_type": "execute_result"
    }
   ],
   "source": [
    "\n",
    "if isinstance(axis_angle_spec,tuple):\n",
    "    axis1= axis_angle_spec[0].axis\n",
    "    theta1 = axis_angle_spec[0].theta\n",
    "    axis2= axis_angle_spec[1].axis\n",
    "    theta2 = axis_angle_spec[1].theta   \n",
    "elif isinstance(axis_angle_spec,AxisAngleSpec):\n",
    "    axis = axis_angle_spec.axis\n",
    "    theta = axis_angle_spec.theta\n",
    "else:\n",
    "    raise ValueError(\"No symbols used , we should have a valid axis angle spec\")\n",
    "\n",
    "axis1.evalf(),theta1, axis2.evalf(),theta2\n"
   ]
  },
  {
   "cell_type": "code",
   "execution_count": 7,
   "id": "c88948ef",
   "metadata": {},
   "outputs": [
    {
     "data": {
      "text/latex": [
       "Axis($x = \\displaystyle -0.447213595499958$, $y = \\displaystyle 0.447213595499958$, $z = \\displaystyle -0.774596669241483$)"
      ],
      "text/plain": [
       "Axis(-0.447213595499958, 0.447213595499958, -0.774596669241483)"
      ]
     },
     "execution_count": 7,
     "metadata": {},
     "output_type": "execute_result"
    }
   ],
   "source": [
    "(r_i @ axis1).evalf()"
   ]
  },
  {
   "cell_type": "markdown",
   "id": "5f19d82d",
   "metadata": {},
   "source": [
    "## Question 3"
   ]
  },
  {
   "cell_type": "code",
   "execution_count": null,
   "id": "7be6d5d5",
   "metadata": {},
   "outputs": [],
   "source": []
  }
 ],
 "metadata": {
  "kernelspec": {
   "display_name": ".venv",
   "language": "python",
   "name": "python3"
  },
  "language_info": {
   "codemirror_mode": {
    "name": "ipython",
    "version": 3
   },
   "file_extension": ".py",
   "mimetype": "text/x-python",
   "name": "python",
   "nbconvert_exporter": "python",
   "pygments_lexer": "ipython3",
   "version": "3.13.3"
  }
 },
 "nbformat": 4,
 "nbformat_minor": 5
}
