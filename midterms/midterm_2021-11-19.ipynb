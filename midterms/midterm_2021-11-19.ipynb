{
 "cells": [
  {
   "cell_type": "markdown",
   "id": "1ee961e5",
   "metadata": {},
   "source": [
    "# Midterm November 19, 2021"
   ]
  },
  {
   "cell_type": "code",
   "execution_count": 58,
   "id": "46fc4893",
   "metadata": {},
   "outputs": [],
   "source": [
    "import sympy\n",
    "import math\n",
    "from IPython.display import display, Math\n",
    "from robotic.manipulator import JointType, Manipulator\n",
    "from robotic import scalar_repr_latex\n",
    "from robotic.utils import draw_frame\n",
    "from robotic.transformations import (\n",
    "    Axis,\n",
    "    EulerOrder,\n",
    "    EulerSequence,\n",
    "    EulerSpec,\n",
    "    HomogeneousTransformation,\n",
    "    Rotation,\n",
    "    Translation,\n",
    "    X,\n",
    "    Y,\n",
    "    Z,\n",
    ")"
   ]
  },
  {
   "cell_type": "markdown",
   "id": "c27f760f",
   "metadata": {},
   "source": [
    "## Exercise 1\n",
    "\n",
    "We are asked to find the final orientation of the body, after two sequential rotations. The first rotation must be applied to an axis $\\bold{r}$ and the other around a fixed axis $y$.\n",
    "\n",
    "Since the second rotation is around a fixed axis, not body-fixed axis, the rotation must be applied to the left of trhe first rotation."
   ]
  },
  {
   "cell_type": "code",
   "execution_count": 59,
   "id": "5953ead6",
   "metadata": {},
   "outputs": [
    {
     "data": {
      "text/latex": [
       "$\\displaystyle \\left[\\begin{matrix}0.622 & -0.744 & -0.244\\\\0.6667 & 0.6667 & -0.3333\\\\0.4107 & 0.0447 & 0.9107\\end{matrix}\\right]$"
      ],
      "text/plain": [
       "Matrix([\n",
       "[ 0.622, -0.744,  -0.244],\n",
       "[0.6667, 0.6667, -0.3333],\n",
       "[0.4107, 0.0447,  0.9107]])"
      ]
     },
     "execution_count": 59,
     "metadata": {},
     "output_type": "execute_result"
    }
   ],
   "source": [
    "r = Axis(\n",
    "    sympy.sympify(1) / sympy.sqrt(3),\n",
    "    sympy.sympify(1) / sympy.sqrt(3),\n",
    "    sympy.sympify(1) / sympy.sqrt(3),\n",
    ")\n",
    "theta = sympy.pi / 3\n",
    "phi = -sympy.pi / 3\n",
    "r = Rotation.from_axis_angle((Y, phi)) @ Rotation.from_axis_angle((r, theta))\n",
    "r.evalf().round()"
   ]
  },
  {
   "cell_type": "markdown",
   "id": "795467e7",
   "metadata": {},
   "source": [
    "## Exercise 2\n",
    "\n",
    "The goal is to find the two sequences of ZYZ Euler angles that represent the transformation $R_{if}$, which define the transformation from $R_i$ to $R_f$.\n",
    "\n",
    "Knowing that\n",
    "\n",
    "$$\n",
    "R_f = R_i R_{if}\n",
    "$$\n",
    "\n",
    "using the orthogonality of the matrices, we get:\n",
    "\n",
    "$$\n",
    "R_{if} = R_i^T R_f\n",
    "$$"
   ]
  },
  {
   "cell_type": "code",
   "execution_count": 60,
   "id": "22d46309",
   "metadata": {},
   "outputs": [
    {
     "data": {
      "text/latex": [
       "$\\displaystyle \\left[\\begin{matrix}0 & -1 & 0\\\\0.5 & 0 & \\frac{\\sqrt{3}}{2}\\\\- \\frac{\\sqrt{3}}{2} & 0 & 0.5\\end{matrix}\\right]$"
      ],
      "text/plain": [
       "Matrix([\n",
       "[         0, -1,         0],\n",
       "[       0.5,  0, sqrt(3)/2],\n",
       "[-sqrt(3)/2,  0,       0.5]])"
      ]
     },
     "execution_count": 60,
     "metadata": {},
     "output_type": "execute_result"
    }
   ],
   "source": [
    "r_i = Rotation(\n",
    "    sympy.Matrix(\n",
    "        [\n",
    "            [0, 0.5, -sympy.sqrt(3) / sympy.sympify(2)],\n",
    "            [-1, 0, 0],\n",
    "            [0, sympy.sqrt(3) / sympy.sympify(2), 0.5],\n",
    "        ]\n",
    "    )\n",
    ")\n",
    "r_f = Rotation.identity()\n",
    "r_if = r_i.T @ r_f\n",
    "r_if"
   ]
  },
  {
   "cell_type": "markdown",
   "id": "a2fe42e2",
   "metadata": {},
   "source": [
    "From which we need to extract the euler angles:"
   ]
  },
  {
   "cell_type": "code",
   "execution_count": 61,
   "id": "ee03cbac",
   "metadata": {},
   "outputs": [
    {
     "name": "stderr",
     "output_type": "stream",
     "text": [
      "INFO | Starting Euler angle extraction with euler sequence ZYZ and euler order FIXED\n",
      "INFO | Computing theta2 = atan2(sqrt(-0.8660^2 + 0^2), 0.5000)\n",
      "INFO | Computing theta2_bis as -theta2\n",
      "INFO | Computing theta1 = atan2(0.8660 / sin(theta2), 0 / sin(theta2))\n",
      "INFO | Computing theta3 = atan2(0 / sin(theta2), 0.8660 / sin(theta2))\n",
      "INFO | Computing alternative theta1_bis = atan2(0.8660 / sin(theta2_bis), 0 / sin(theta2_bis))\n",
      "INFO | Computing alternative theta3_bis = atan2(0 / sin(theta2_bis), 0.8660 / sin(theta2_bis))\n"
     ]
    },
    {
     "data": {
      "text/latex": [
       "$\\displaystyle EulerAngles(\\theta_1 =$ $\\displaystyle \\frac{\\pi}{2}$ $, \\theta_2 =$ $\\displaystyle 1.047$ $, \\theta_3 =$ $\\displaystyle 0$ $)$"
      ],
      "text/plain": [
       "<IPython.core.display.Math object>"
      ]
     },
     "metadata": {},
     "output_type": "display_data"
    },
    {
     "data": {
      "text/latex": [
       "$\\displaystyle EulerAngles(\\theta_1 =$ $\\displaystyle - \\frac{\\pi}{2}$ $, \\theta_2 =$ $\\displaystyle -1.047$ $, \\theta_3 =$ $\\displaystyle \\pi$ $)$"
      ],
      "text/plain": [
       "<IPython.core.display.Math object>"
      ]
     },
     "metadata": {},
     "output_type": "display_data"
    }
   ],
   "source": [
    "euler_spec = r_if.to_euler(EulerSequence.ZYZ, EulerOrder.FIXED)\n",
    "if isinstance(euler_spec, tuple):\n",
    "    display(Math(f\"{euler_spec[0].euler_angles._repr_latex_()}\"))\n",
    "    display(Math(f\"{euler_spec[1].euler_angles._repr_latex_()}\"))"
   ]
  },
  {
   "cell_type": "markdown",
   "id": "d35b089a",
   "metadata": {},
   "source": [
    "# Exercise 3\n",
    "\n",
    "TODO: Ask professor what I'm doing wrong."
   ]
  },
  {
   "cell_type": "markdown",
   "id": "a2af3543",
   "metadata": {},
   "source": [
    "We are tasked to complete the DH frames and get the associated table of parameters.\n",
    "The first thing that need to be done when dealing with DH is assign the frames.\n",
    "\n",
    "For assigning the D-H frames properly, the following conventions must be respected:\n",
    "\n",
    "- $z_0$ must be aligned with the first joint axis (rotation or translation).\n",
    "- $x_0$ is arbitrary (it can be chosen freely) as long as it:\n",
    "    - Is orthogonal to $z_0$\n",
    "    - Follows the D-H convention for defining distances and angles.\n",
    "- $y_0$ must complete a right handed frame with $x_0$ and $z_0$."
   ]
  },
  {
   "cell_type": "code",
   "execution_count": 62,
   "id": "4c2f972f",
   "metadata": {},
   "outputs": [
    {
     "data": {
      "image/png": "[encoded data removed]",
      "text/plain": [
       "<Figure size 640x480 with 1 Axes>"
      ]
     },
     "metadata": {},
     "output_type": "display_data"
    }
   ],
   "source": [
    "r_0 = Rotation.identity()\n",
    "frame_0 = draw_frame(\n",
    "    r_0, label=\"Frame 0\", basis=Rotation.from_axis_angle((Z, -sympy.pi / 2))\n",
    ")"
   ]
  },
  {
   "cell_type": "markdown",
   "id": "7b6d6b22",
   "metadata": {},
   "source": [
    "Now the assignation of the remaing frames is straight forward (except for the last frame).\n",
    "We have to follow these simple rules:\n",
    "\n",
    "- The $z_i$ axis must be aligned with the axis of motion of Joint $i+1$\n",
    "- The $x_i$ axis must:\n",
    "    - Be perpendicular to both $z_i$ and $z_{i-1}$\n",
    "    - Lie along the commond normal   "
   ]
  },
  {
   "cell_type": "code",
   "execution_count": 63,
   "id": "2af5a85b",
   "metadata": {},
   "outputs": [
    {
     "data": {
      "image/png": "[encoded data removed]",
      "text/plain": [
       "<Figure size 640x480 with 1 Axes>"
      ]
     },
     "metadata": {},
     "output_type": "display_data"
    }
   ],
   "source": [
    "# TODO: Ask de luca, I haven't been able to find a rotation that has no Z component,\n",
    "# so why the dh table doesn't have a pi term?\n",
    "r_1 = Rotation.from_axis_angle((Z, sympy.pi)) @ Rotation.from_axis_angle(\n",
    "    (X, sympy.pi / 2)\n",
    ") \n",
    "frame_1 = draw_frame(rotation=r_1, label=\"Frame 1\", basis=frame_0)\n"
   ]
  },
  {
   "cell_type": "code",
   "execution_count": 64,
   "id": "f364be7b",
   "metadata": {},
   "outputs": [
    {
     "data": {
      "image/png": "[encoded data removed]",
      "text/plain": [
       "<Figure size 640x480 with 1 Axes>"
      ]
     },
     "metadata": {},
     "output_type": "display_data"
    }
   ],
   "source": [
    "# TODO: Ask De luca how he got + pi/2\n",
    "r_2 = Rotation.from_axis_angle((Y, sympy.pi)) @ Rotation.from_axis_angle(\n",
    "     (X, -sympy.pi / 2)\n",
    ")\n",
    "frame_2 = draw_frame(rotation=r_2, label=\"Frame 2\", basis=frame_1)"
   ]
  },
  {
   "cell_type": "code",
   "execution_count": 65,
   "id": "5cc21dbe",
   "metadata": {},
   "outputs": [
    {
     "data": {
      "image/png": "[encoded data removed]",
      "text/plain": [
       "<Figure size 640x480 with 1 Axes>"
      ]
     },
     "metadata": {},
     "output_type": "display_data"
    }
   ],
   "source": [
    "r_3 = Rotation.from_axis_angle((X, sympy.pi / 2))\n",
    "frame_3 = draw_frame(rotation=r_3, label=\"Frame 3\", basis=frame_2)"
   ]
  },
  {
   "cell_type": "markdown",
   "id": "01100d36",
   "metadata": {},
   "source": [
    "For the last link:\n",
    "\n",
    "- If the $n$-th joint is revolute the last axis must be aligned with the direction of $z_{n-1}$\n",
    "- The position of $x_n$ along $z_{n-1}$ is arbitraty if no link lenght or offset is specified\n",
    "\n",
    "In this problem however another thing is subtly required:\n",
    "\n",
    ">  If needed, provide the transformation between the last D-H frame and the standard frame of an end-effector gripper.\n",
    "\n",
    "The standard frame for a gripper usually follows these rules\n",
    "\n",
    "- The $z$ axis directed in the approach direction of the gripper\n",
    "- The $y$ axis directed in the slide direction of the gripper\n",
    "\n",
    "In this case the D-H frame assignment for the last link is not compatible with the desired standard end-effector frame.\n",
    "In particular the incopatibility comes from the fact that it must be $z_4 \\neq z_e$ \n"
   ]
  },
  {
   "cell_type": "code",
   "execution_count": 66,
   "id": "855fc434",
   "metadata": {},
   "outputs": [
    {
     "data": {
      "image/png": "[encoded data removed]",
      "text/plain": [
       "<Figure size 640x480 with 1 Axes>"
      ]
     },
     "metadata": {},
     "output_type": "display_data"
    }
   ],
   "source": [
    "r_4 = Rotation.from_axis_angle((Z, sympy.pi))\n",
    "frame_4 = draw_frame(rotation=r_4, label=\"Frame 4\", basis=frame_3)\n"
   ]
  },
  {
   "cell_type": "code",
   "execution_count": 67,
   "id": "1b1891d4",
   "metadata": {},
   "outputs": [
    {
     "data": {
      "image/png": "[encoded data removed]",
      "text/plain": [
       "<Figure size 640x480 with 1 Axes>"
      ]
     },
     "metadata": {},
     "output_type": "display_data"
    }
   ],
   "source": [
    "r_ee = Rotation.from_axis_angle((Y, sympy.pi / 2)) @ Rotation.from_axis_angle(\n",
    "    (Z, sympy.pi / 2)\n",
    ")\n",
    "frame_ee = draw_frame(rotation=r_ee, label=\"Frame End-Effector\", basis=frame_4)"
   ]
  },
  {
   "cell_type": "markdown",
   "id": "fabcd5d0",
   "metadata": {},
   "source": [
    "Once we defined the needed frames, we can proceed to compute the DH table.\n",
    "Where $a_4 \\neq 0$ because when two frames have the same $z$ axis the $a$ parameter is the distance between them."
   ]
  },
  {
   "cell_type": "code",
   "execution_count": 68,
   "id": "af49aaab",
   "metadata": {},
   "outputs": [
    {
     "data": {
      "text/latex": [
       "$\n",
       "\\begin{array}{|c|c|c|c|c|}\n",
       "\\hline\n",
       "a & \\alpha & d & \\theta & type \\\\ \\hline\n",
       "0 & \\frac{\\pi}{2} & d_{1} & q_{1} + \\pi & \\mathrm{Revolute} \\\\[0.5em]\n",
       "0 & - \\frac{\\pi}{2} & 0 & q_{2} & \\mathrm{Revolute} \\\\[0.5em]\n",
       "0 & - \\frac{\\pi}{2} & d_{3} & q_{3} & \\mathrm{Revolute} \\\\[0.5em]\n",
       "0 & 0 & 0 & q_{4} & \\mathrm{Revolute} \\\\[0.5em]\n",
       "\\hline\n",
       "\\end{array}\n",
       "$"
      ],
      "text/plain": [
       "   a \\alpha    d    \\theta      type\n",
       "0  0   pi/2  d_1  q_1 + pi  REVOLUTE\n",
       "1  0  -pi/2    0       q_2  REVOLUTE\n",
       "2  0  -pi/2  d_3       q_3  REVOLUTE\n",
       "3  0      0    0       q_4  REVOLUTE"
      ]
     },
     "execution_count": 68,
     "metadata": {},
     "output_type": "execute_result"
    }
   ],
   "source": [
    "\n",
    "man = Manipulator(\n",
    "    [JointType.REVOLUTE, JointType.REVOLUTE, JointType.REVOLUTE, JointType.REVOLUTE],\n",
    "    [sympy.pi / 2, -sympy.pi / 2, -sympy.pi / 2, 0],\n",
    "    [0, 0, 0, 0],\n",
    "    [sympy.pi, 0, 0, 0], \n",
    "    [sympy.symbols(\"d_1\"), 0, sympy.symbols(\"d_3\"), 0], # Distance along the z axis\n",
    ")\n",
    "man.dh_table()"
   ]
  },
  {
   "cell_type": "markdown",
   "id": "2bcee71f",
   "metadata": {},
   "source": [
    "## Exercise 4 \n",
    "\n",
    "Drawing, the general idea is to get the cartesian product of all possible limits and picture them in your head.\n",
    "From the drawing the requested point P should lie in the primary workspace and thus be reachable by the end effector."
   ]
  },
  {
   "cell_type": "markdown",
   "id": "1741ec0b",
   "metadata": {},
   "source": [
    "## Excercise 5\n",
    "\n",
    "We are going to assign the dh parameters to the left branch\n",
    "\n"
   ]
  },
  {
   "cell_type": "code",
   "execution_count": 69,
   "id": "c1225a79",
   "metadata": {},
   "outputs": [
    {
     "data": {
      "image/png": "[encoded data removed]",
      "text/plain": [
       "<Figure size 640x480 with 1 Axes>"
      ]
     },
     "metadata": {},
     "output_type": "display_data"
    }
   ],
   "source": [
    "r_0 = Rotation.identity()\n",
    "frame_0 = draw_frame(r_0, label=\"Frame 0\")"
   ]
  },
  {
   "cell_type": "code",
   "execution_count": 70,
   "id": "c39867b5",
   "metadata": {},
   "outputs": [
    {
     "data": {
      "image/png": "[encoded data removed]",
      "text/plain": [
       "<Figure size 640x480 with 1 Axes>"
      ]
     },
     "metadata": {},
     "output_type": "display_data"
    }
   ],
   "source": [
    "r_1 = Rotation.identity()\n",
    "frame_1 = draw_frame(r_1, label=\"Frame 1\")"
   ]
  },
  {
   "cell_type": "code",
   "execution_count": 71,
   "id": "4d9c94ce",
   "metadata": {},
   "outputs": [
    {
     "data": {
      "image/png": "[encoded data removed]",
      "text/plain": [
       "<Figure size 640x480 with 1 Axes>"
      ]
     },
     "metadata": {},
     "output_type": "display_data"
    }
   ],
   "source": [
    "r_2 = Rotation.identity()\n",
    "frame_2 = draw_frame(r_2, label=\"Frame 2\", basis=frame_1)"
   ]
  },
  {
   "cell_type": "code",
   "execution_count": 72,
   "id": "55d87c90",
   "metadata": {},
   "outputs": [
    {
     "data": {
      "image/png": "[encoded data removed]",
      "text/plain": [
       "<Figure size 640x480 with 1 Axes>"
      ]
     },
     "metadata": {},
     "output_type": "display_data"
    }
   ],
   "source": [
    "r_3 = Rotation.identity()\n",
    "frame_3 = draw_frame(r_3, label=\"Frame 3\", basis=frame_2)"
   ]
  },
  {
   "cell_type": "code",
   "execution_count": 73,
   "id": "130931e2",
   "metadata": {},
   "outputs": [
    {
     "data": {
      "image/png": "[encoded data removed]",
      "text/plain": [
       "<Figure size 640x480 with 1 Axes>"
      ]
     },
     "metadata": {},
     "output_type": "display_data"
    }
   ],
   "source": [
    "r_ee = Rotation.from_axis_angle((Z, sympy.pi / 2))\n",
    "frame_ee = draw_frame(r_ee, label=\"Frame End Effector\", basis=frame_3)"
   ]
  },
  {
   "cell_type": "code",
   "execution_count": 74,
   "id": "3a9d8270",
   "metadata": {},
   "outputs": [
    {
     "data": {
      "text/latex": [
       "$\n",
       "\\begin{array}{|c|c|c|c|c|}\n",
       "\\hline\n",
       "a & \\alpha & d & \\theta & type \\\\ \\hline\n",
       "L_{0} & 0 & 0 & q_{1} & \\mathrm{Revolute} \\\\[0.5em]\n",
       "L_{r1} & 0 & 0 & q_{2} & \\mathrm{Revolute} \\\\[0.5em]\n",
       "L_{r2} & 0 & 0 & q_{3} & \\mathrm{Revolute} \\\\[0.5em]\n",
       "\\hline\n",
       "\\end{array}\n",
       "$"
      ],
      "text/plain": [
       "        a \\alpha  d \\theta      type\n",
       "0     L_0      0  0    q_1  REVOLUTE\n",
       "1  L_{r1}      0  0    q_2  REVOLUTE\n",
       "2  L_{r2}      0  0    q_3  REVOLUTE"
      ]
     },
     "execution_count": 74,
     "metadata": {},
     "output_type": "execute_result"
    }
   ],
   "source": [
    "man_r = Manipulator(\n",
    "    [JointType.REVOLUTE, JointType.REVOLUTE, JointType.REVOLUTE],\n",
    "    [0,0,0],\n",
    "    [sympy.symbols(\"L_0\"),sympy.symbols(\"L_{r1}\"),sympy.symbols(\"L_{r2}\")],\n",
    "    # TODO: Ask Deluca.\n",
    "    # I would have combined frame 3 with frame End effector, I guess he just added a new rotation for the end effector, but why  ? \n",
    "    [0,0,0], # Try to\n",
    "    [0,0,0],\n",
    "    \n",
    "    )\n",
    "man_r.dh_table()"
   ]
  },
  {
   "cell_type": "code",
   "execution_count": 75,
   "id": "3662816c",
   "metadata": {},
   "outputs": [
    {
     "name": "stderr",
     "output_type": "stream",
     "text": [
      "WARNING | Skipping numeric validation: matrix is symbolic\n",
      "WARNING | Skipping numeric validation: matrix is symbolic\n",
      "WARNING | Skipping numeric validation: matrix is symbolic\n",
      "WARNING | Skipping numeric validation: matrix is symbolic\n",
      "WARNING | Skipping numeric validation: matrix is symbolic\n",
      "WARNING | Skipping numeric validation: matrix is symbolic\n",
      "WARNING | Skipping numeric validation: matrix is symbolic\n",
      "WARNING | Skipping numeric validation: matrix is symbolic\n",
      "WARNING | Skipping numeric validation: matrix is symbolic\n",
      "WARNING | Skipping numeric validation: matrix is symbolic\n",
      "WARNING | Skipping numeric validation: matrix is symbolic\n",
      "WARNING | Skipping numeric validation: matrix is symbolic\n",
      "WARNING | Skipping numeric validation: matrix is symbolic\n",
      "WARNING | Skipping numeric validation: matrix is symbolic\n",
      "WARNING | Skipping numeric validation: matrix is symbolic\n",
      "WARNING | Skipping numeric validation: matrix is symbolic\n",
      "WARNING | Skipping numeric validation: matrix is symbolic\n",
      "WARNING | Skipping numeric validation: matrix is symbolic\n",
      "WARNING | Skipping numeric validation: matrix is symbolic\n"
     ]
    },
    {
     "data": {
      "text/latex": [
       "$\\displaystyle \\left[\\begin{matrix}- \\sin{\\left(q_{1} + q_{2} + q_{3} \\right)} & - \\cos{\\left(q_{1} + q_{2} + q_{3} \\right)} & 0 & L_{0} \\cos{\\left(q_{1} \\right)} + L_{r1} \\cos{\\left(q_{1} + q_{2} \\right)} + L_{r2} \\cos{\\left(q_{1} + q_{2} + q_{3} \\right)}\\\\\\cos{\\left(q_{1} + q_{2} + q_{3} \\right)} & - \\sin{\\left(q_{1} + q_{2} + q_{3} \\right)} & 0 & L_{0} \\sin{\\left(q_{1} \\right)} + L_{r1} \\sin{\\left(q_{1} + q_{2} \\right)} + L_{r2} \\sin{\\left(q_{1} + q_{2} + q_{3} \\right)}\\\\0 & 0 & 1 & 0\\\\0 & 0 & 0 & 1\\end{matrix}\\right]$"
      ],
      "text/plain": [
       "Matrix([\n",
       "[-sin(q_1 + q_2 + q_3), -cos(q_1 + q_2 + q_3), 0, L_0*cos(q_1) + L_{r1}*cos(q_1 + q_2) + L_{r2}*cos(q_1 + q_2 + q_3)],\n",
       "[ cos(q_1 + q_2 + q_3), -sin(q_1 + q_2 + q_3), 0, L_0*sin(q_1) + L_{r1}*sin(q_1 + q_2) + L_{r2}*sin(q_1 + q_2 + q_3)],\n",
       "[                    0,                     0, 1,                                                                  0],\n",
       "[                    0,                     0, 0,                                                                  1]])"
      ]
     },
     "execution_count": 75,
     "metadata": {},
     "output_type": "execute_result"
    }
   ],
   "source": [
    "sympy.simplify(man_r.dh_matrix() @ r_ee)"
   ]
  },
  {
   "cell_type": "code",
   "execution_count": 76,
   "id": "dc9c382d",
   "metadata": {},
   "outputs": [
    {
     "name": "stderr",
     "output_type": "stream",
     "text": [
      "WARNING | Skipping numeric validation: matrix is symbolic\n",
      "WARNING | Skipping numeric validation: matrix is symbolic\n",
      "WARNING | Skipping numeric validation: matrix is symbolic\n",
      "WARNING | Skipping numeric validation: matrix is symbolic\n",
      "WARNING | Skipping numeric validation: matrix is symbolic\n",
      "WARNING | Skipping numeric validation: matrix is symbolic\n",
      "WARNING | Skipping numeric validation: matrix is symbolic\n",
      "WARNING | Skipping numeric validation: matrix is symbolic\n",
      "WARNING | Skipping numeric validation: matrix is symbolic\n",
      "WARNING | Skipping numeric validation: matrix is symbolic\n",
      "WARNING | Skipping numeric validation: matrix is symbolic\n",
      "WARNING | Skipping numeric validation: matrix is symbolic\n",
      "WARNING | Skipping numeric validation: matrix is symbolic\n",
      "WARNING | Skipping numeric validation: matrix is symbolic\n",
      "WARNING | Skipping numeric validation: matrix is symbolic\n",
      "WARNING | Skipping numeric validation: matrix is symbolic\n",
      "WARNING | Skipping numeric validation: matrix is symbolic\n",
      "WARNING | Skipping numeric validation: matrix is symbolic\n",
      "WARNING | Skipping numeric validation: matrix is symbolic\n"
     ]
    },
    {
     "data": {
      "text/latex": [
       "$\\displaystyle \\left[\\begin{matrix}L_{0} \\cos{\\left(q_{1} \\right)} + L_{r1} \\cos{\\left(q_{1} + q_{2} \\right)} + L_{r2} \\cos{\\left(q_{1} + q_{2} + q_{3} \\right)}\\\\L_{0} \\sin{\\left(q_{1} \\right)} + L_{r1} \\sin{\\left(q_{1} + q_{2} \\right)} + L_{r2} \\sin{\\left(q_{1} + q_{2} + q_{3} \\right)}\\\\0\\end{matrix}\\right]$"
      ],
      "text/plain": [
       "Matrix([\n",
       "[L_0*cos(q_1) + L_{r1}*cos(q_1 + q_2) + L_{r2}*cos(q_1 + q_2 + q_3)],\n",
       "[L_0*sin(q_1) + L_{r1}*sin(q_1 + q_2) + L_{r2}*sin(q_1 + q_2 + q_3)],\n",
       "[                                                                 0]])"
      ]
     },
     "execution_count": 76,
     "metadata": {},
     "output_type": "execute_result"
    }
   ],
   "source": [
    "man_r.dh_matrix().as_translation()"
   ]
  },
  {
   "cell_type": "markdown",
   "id": "ab5f8fa9",
   "metadata": {},
   "source": [
    "## Excercise 6"
   ]
  },
  {
   "cell_type": "markdown",
   "id": "6fbf9f60",
   "metadata": {},
   "source": [
    "First we need to solve this system of equations:\n",
    "\n",
    "$$\n",
    "p_x = l_1 cos(q_1) + q_3 cos(q_1+q_2) \\\\\n",
    "p_y = l_1 sin(q_1) + q_3 sin(q_1+q_2) \\\\\n",
    "\\alpha = q_1+ q_2 \\\\\n",
    "$$\n",
    "\n",
    "Where $p_x, p_y$ and $\\alpha$ are known.\n",
    "We need to try isolate each term as much as possible, the first thing we can do is substitue $q_1+q_2$ with alpha, leading to:\n",
    "\n",
    "$$\n",
    "p_x = l_1 cos(q_1) + q_3 cos(\\alpha) \\\\\n",
    "p_y = l_1 sin(q_1) + q_3 sin(\\alpha) \\\\\n",
    "$$\n",
    "\n",
    "Now we still have a dependence on both $q_1$ and $q_3$, however knowing that $cos^2 + sin^2 = 1$ we can move $q_3 cos(\\alpha)$ and $q_3 sin(\\alpha)$ to the left side:\n",
    "\n",
    "$$\n",
    "p_x - q_3 cos(\\alpha)= l_1 cos(q_1) \\\\\n",
    "p_y - q_3 sin(\\alpha)= l_1 sin(q_1) \\\\\n",
    "$$\n",
    "\n",
    "We can now remove the dependence of $q_1$ by summing and squaring both equations:\n",
    "\n",
    "$$\n",
    "(p_x - q_3 cos(\\alpha))^2 + (p_y - q_3 sin(\\alpha))^2 = l_1^2 (cos(q_1) + sin(q_1) ) = l_1 ^2\n",
    "$$\n",
    "\n",
    "Where\n",
    "\n",
    "$$\n",
    "(p_x - q_3 cos(\\alpha))^2 + (p_y - q_3 sin(\\alpha))^2 = q_3^2 + p_x^2 + p_y^2 - 2q_3(p_x cos(\\alpha) + p_y sin(\\alpha)) =  l_1 ^2\n",
    "$$\n",
    "\n",
    "Moving $l_1 ^2$ to the left side, we have a linear equation with the only unknown $q_3$:\n",
    "\n",
    "$$\n",
    "q_3^2 + p_x^2 + p_y^2 - 2q_3(p_x cos(\\alpha) + p_y sin(\\alpha)) - l_1 ^2 = 0\n",
    "$$\n",
    "\n",
    "Rearranging terms we got\n",
    "\n",
    "$$\n",
    "q_3^2  - 2 q_3(p_x cos(\\alpha) + p_y sin(\\alpha)) + ( p_x^2 + p_y^2 -l_1 ^2) = 0\n",
    "$$\n",
    "\n",
    "Which is a second order equation, in the form \n",
    "\n",
    "$$\n",
    "ax^2 + bx +c = 0\n",
    "$$\n",
    "\n",
    "Which has a **real** solution if and only if\n",
    "\n",
    "$$\n",
    "b^2 - 4ac \\geq 0\n",
    "$$\n",
    "\n",
    "Which in our case equates to\n",
    "\n",
    "$$\n",
    "4 (p_x cos(\\alpha) + p_y sin(\\alpha)) ^2 - 4 (p_x^2 + p_y^2 -l_1 ^2) \\geq 0 \\rightarrow (p_x cos(\\alpha) + p_y sin(\\alpha)) ^2 - (p_x^2 + p_y^2 -l_1 ^2) \\geq 0\n",
    "$$\n",
    "\n",
    "Which can be rewritten as:\n",
    "\n",
    "$$\n",
    "p_x^2 cos(\\alpha)^2 + p_y^2 sin(\\alpha)^2 + 2p_xp_y cos(\\alpha)sin(\\alpha) - p_x^2 - p_y^2 + l_1^2  = p_x^2(cos(\\alpha)^2 - 1) + p_y^2(sin(\\alpha)^2 - 1) + l_1^2 + 2p_xp_y cos(\\alpha)sin(\\alpha)\n",
    "$$\n",
    "\n",
    "By using the Product to Sum formulas and pythagorean identities\n",
    "\n",
    "$$\n",
    "sin(\\alpha)^2 + cos(\\alpha)^2 = 1 \\rightarrow  - sin(alpha)^2 = cos(\\alpha)^2 - 1 \\\\\n",
    "sin(\\alpha)^2 + cos(\\alpha)^2 = 1 \\rightarrow  - cos(alpha)^2 = sin(\\alpha)^2 - 1 \\\\\n",
    "sin(\\alpha) cos(\\alpha) = \\frac{1}{2} sin(2\\alpha)\n",
    "$$\n",
    "\n",
    "We can rewrite finally\n",
    "\n",
    "$$\n",
    "l_1^2 - p_x^2 sin(\\alpha)^2 - p_x^2 cos(\\alpha)^2 + p_x p_y sin(2\\alpha)\n",
    "$$\n",
    "\n",
    "We can distinguish the situations in:\n",
    "\n",
    "- $\\Delta > 0$ regular solution, the robot has two configurations for the same position\n",
    "- $\\Delta = 0$ we have only one solution, thus a singularity, the robot loses a degree of freedom\n",
    "- $\\Delta < 0$ the target is not reachable\n",
    "\n",
    "Since we have to discard the first two cases as per problem request, we can determine the value of $q_3, q_2, q_1$\n",
    "\n",
    "$$\n",
    "q_3^{\\pm} = p_x cos(\\alpha) + p_y sin(\\alpha) \\pm \\sqrt{\\Delta}\n",
    "$$\n",
    "\n",
    "Rembering that \n",
    "\n",
    "\n",
    "$$\n",
    "p_x = l_1 cos(q_1) + q_3^{\\pm} cos(\\alpha) \\rightarrow p_x - q_3^{\\pm} cos(\\alpha) = l_1 cos(q_1) \\\\\n",
    "p_y = l_1 sin(q_1) + q_3^{\\pm} sin(\\alpha) \\rightarrow p_y - q_3^{\\pm} sin(\\alpha) = l_1 sin(q_1) \\\\\n",
    "$$\n",
    "\n",
    "Thus\n",
    "\n",
    "$$\n",
    "\\frac{sin(q_1)}{cos(q_1)}= \\frac{p_y - q_3^{\\pm} sin(\\alpha)}{p_x - q_3^{\\pm} cos(\\alpha)} \\rightarrow q_1 = atan_2( p_y - q_3^{\\pm} sin(\\alpha), p_x - q_3^{\\pm} cos(\\alpha))\n",
    "$$\n",
    "\n",
    "Finally\n",
    "\n",
    "$$\n",
    "q_2^{\\pm} = \\alpha - q_1^{\\pm}\n",
    "$$"
   ]
  },
  {
   "cell_type": "code",
   "execution_count": 105,
   "id": "3acc782c",
   "metadata": {},
   "outputs": [
    {
     "data": {
      "text/latex": [
       "$\\displaystyle q_1^{+} = -2.4836$"
      ],
      "text/plain": [
       "<IPython.core.display.Math object>"
      ]
     },
     "metadata": {},
     "output_type": "display_data"
    },
    {
     "data": {
      "text/latex": [
       "$\\displaystyle q_2^{+} = 3.0072$"
      ],
      "text/plain": [
       "<IPython.core.display.Math object>"
      ]
     },
     "metadata": {},
     "output_type": "display_data"
    },
    {
     "data": {
      "text/latex": [
       "$\\displaystyle q_3^{+} = 3.2230$"
      ],
      "text/plain": [
       "<IPython.core.display.Math object>"
      ]
     },
     "metadata": {},
     "output_type": "display_data"
    },
    {
     "data": {
      "text/latex": [
       "$\\displaystyle q_1^{-} = 0.3892$"
      ],
      "text/plain": [
       "<IPython.core.display.Math object>"
      ]
     },
     "metadata": {},
     "output_type": "display_data"
    },
    {
     "data": {
      "text/latex": [
       "$\\displaystyle q_2^{-} = 0.1344$"
      ],
      "text/plain": [
       "<IPython.core.display.Math object>"
      ]
     },
     "metadata": {},
     "output_type": "display_data"
    },
    {
     "data": {
      "text/latex": [
       "$\\displaystyle q_3^{-} = 1.2411$"
      ],
      "text/plain": [
       "<IPython.core.display.Math object>"
      ]
     },
     "metadata": {},
     "output_type": "display_data"
    }
   ],
   "source": [
    "l_1,q_1,q_2 ,q_3, p_x,p_y, alpha, sign= sympy.symbols(\"l_1,q_1,q_2,q_3,p_x,p_y,alpha,sign\")\n",
    "\n",
    "q_3 = p_x * sympy.cos(alpha) + p_y * sympy.sin(alpha) + sign * sympy.sqrt(l_1**2 - (p_x* sympy.sin(alpha))**2 - (p_y * sympy.cos(alpha))**2 + (p_x * p_y * sympy.sin(2*alpha)))\n",
    "q_1 = sympy.atan2(p_y - q_3*sympy.sin(alpha),p_x - q_3 * sympy.cos(alpha), )\n",
    "q_2 = alpha - q_1\n",
    "\n",
    "numerical_values = {\"l_1\": 1, \"p_x\": 2 , \"p_y\": 1, \"alpha\": sympy.pi/6}\n",
    "numerical_q_3 = q_3.subs(numerical_values)\n",
    "numerical_values.update({\"q_3\":numerical_q_3})\n",
    "numerical_q_2 = q_2.subs(numerical_values)\n",
    "numerical_values.update({\"q_2\":numerical_q_2})\n",
    "numerical_q_1 = q_1.subs(numerical_values)\n",
    "\n",
    "display(Math(\"q_1^{+} = \" + f\"{numerical_q_1.subs(\"sign\",1).evalf():.4f}\"))\n",
    "display(Math(\"q_2^{+} = \" + f\"{numerical_q_2.subs(\"sign\",1).evalf():.4f}\"))\n",
    "display(Math(\"q_3^{+} = \" + f\"{numerical_q_3.subs(\"sign\",1).evalf():.4f}\"))\n",
    "\n",
    "display(Math(\"q_1^{-} = \" + f\"{numerical_q_1.subs(\"sign\",-1).evalf():.4f}\"))\n",
    "display(Math(\"q_2^{-} = \" + f\"{numerical_q_2.subs(\"sign\",-1).evalf():.4f}\"))\n",
    "display(Math(\"q_3^{-} = \" + f\"{numerical_q_3.subs(\"sign\",-1).evalf():.4f}\"))"
   ]
  },
  {
   "cell_type": "markdown",
   "id": "41fbccfe",
   "metadata": {},
   "source": [
    "## Excercise 7\n",
    "\n",
    "We need to find the motor torque $\\tau_m$ that produces the desired angular acceleration, under the conditions that only $J_l$ s known and the system operates under an optimal intertia matching.\n",
    "\n",
    "$$\n",
    "\\tau_m = J_m \\ddot{\\theta}_m + \\frac{1}{n}(J_l \\ddot{\\theta}_l)\n",
    "$$\n",
    "- $J_m$ is the inertia of the motor\n",
    "- $\\ddot{\\theta}_m$ is the angular acceleration of the motor\n",
    "- $n$ is the gear reduction ratio\n",
    "- $J_l$ is the link inertia\n",
    "- $\\ddot{\\theta}_l$ is the link angular acceleration\n",
    "\n",
    "First, the gear ratio is determined by the relationship between the motor and the link angular velocity\n",
    "$$\n",
    "\\begin{aligned}\n",
    "r_m \\dot{\\theta}_m = r_l \\dot{\\theta}_l \\\\\n",
    "\\dot{\\theta}_m = n \\dot{\\theta}_l\n",
    "\\end{aligned}\n",
    "\\implies \n",
    "n = \\frac{r_l}{r_m}\n",
    "$$\n",
    "\n",
    "Differentiating $\\dot{\\theta}_m = n \\dot{\\theta}_l$ w.r.t time, is also true that\n",
    "\n",
    "$$\n",
    "\\ddot{\\theta}_m = n \\ddot{\\theta}_l\n",
    "$$\n",
    "\n",
    "In the optimal inertia matching condition, $n$ must satisfy this requirement:\n",
    "$$\n",
    "n = \\sqrt{\\frac{J_l}{J_m}} \\implies J_m = \\frac{J_l}{n^2} \n",
    "$$\n",
    "\n",
    "Thus, since everything is known, we can rewrite the initial expression as:\n",
    "\n",
    "$$\n",
    "\\tau_m = J_m n \\ddot{\\theta}_l + \\frac{1}{n}(J_l \\ddot{\\theta}_l) = \\ddot{\\theta}_l \\frac{2J_l }{n}\n",
    "$$"
   ]
  },
  {
   "cell_type": "code",
   "execution_count": null,
   "id": "db072f4b",
   "metadata": {},
   "outputs": [
    {
     "data": {
      "text/latex": [
       "$\\displaystyle \\tau_m = -0.6$"
      ],
      "text/plain": [
       "<IPython.core.display.Math object>"
      ]
     },
     "metadata": {},
     "output_type": "display_data"
    }
   ],
   "source": [
    "r_m = 2\n",
    "r_l = 10\n",
    "n = r_l / r_m\n",
    "j_l = .3\n",
    "theta_dot_dot_l = -5\n",
    "display(Math(r\"\\tau_m = \" + f\"{theta_dot_dot_l * ((2 * j_l) / n)}\"))\n"
   ]
  },
  {
   "cell_type": "markdown",
   "id": "142ae0f7",
   "metadata": {},
   "source": [
    "# Excercise 8\n",
    "\n",
    "TODO: Ask de luca, where this formula comes from\n",
    "\n",
    "We ned to find the minimum number traks $n_t$ such that with the given link length $L$ we have a maximum error of no more than $\\delta$.\n",
    "\n",
    "We know that the arc lenght $s$ is given by\n"
   ]
  }
 ],
 "metadata": {
  "kernelspec": {
   "display_name": ".venv",
   "language": "python",
   "name": "python3"
  },
  "language_info": {
   "codemirror_mode": {
    "name": "ipython",
    "version": 3
   },
   "file_extension": ".py",
   "mimetype": "text/x-python",
   "name": "python",
   "nbconvert_exporter": "python",
   "pygments_lexer": "ipython3",
   "version": "3.13.3"
  }
 },
 "nbformat": 4,
 "nbformat_minor": 5
}
